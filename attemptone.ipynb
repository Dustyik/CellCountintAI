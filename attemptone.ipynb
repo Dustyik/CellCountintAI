{
  "nbformat": 4,
  "nbformat_minor": 0,
  "metadata": {
    "colab": {
      "name": "Sklearn COVID.ipynb",
      "provenance": [],
      "collapsed_sections": [],
      "toc_visible": true
    },
    "kernelspec": {
      "name": "python3",
      "display_name": "Python 3.7.3 64-bit"
    },
    "language_info": {
      "name": "python",
      "version": "3.7.3"
    },
    "accelerator": "GPU",
    "widgets": {
      "application/vnd.jupyter.widget-state+json": {
        "bec8765dbcf64aa88cfa6b9c7518f3d8": {
          "model_module": "@jupyter-widgets/controls",
          "model_name": "HBoxModel",
          "state": {
            "_view_name": "HBoxView",
            "_dom_classes": [],
            "_model_name": "HBoxModel",
            "_view_module": "@jupyter-widgets/controls",
            "_model_module_version": "1.5.0",
            "_view_count": null,
            "_view_module_version": "1.5.0",
            "box_style": "",
            "layout": "IPY_MODEL_0cb1396ee59f4223be88a59ac973057c",
            "_model_module": "@jupyter-widgets/controls",
            "children": [
              "IPY_MODEL_fe80c22f8cbf41088770d00bebef2a7e",
              "IPY_MODEL_5fb64134da254925887575199a851808"
            ]
          }
        },
        "0cb1396ee59f4223be88a59ac973057c": {
          "model_module": "@jupyter-widgets/base",
          "model_name": "LayoutModel",
          "state": {
            "_view_name": "LayoutView",
            "grid_template_rows": null,
            "right": null,
            "justify_content": null,
            "_view_module": "@jupyter-widgets/base",
            "overflow": null,
            "_model_module_version": "1.2.0",
            "_view_count": null,
            "flex_flow": null,
            "width": null,
            "min_width": null,
            "border": null,
            "align_items": null,
            "bottom": null,
            "_model_module": "@jupyter-widgets/base",
            "top": null,
            "grid_column": null,
            "overflow_y": null,
            "overflow_x": null,
            "grid_auto_flow": null,
            "grid_area": null,
            "grid_template_columns": null,
            "flex": null,
            "_model_name": "LayoutModel",
            "justify_items": null,
            "grid_row": null,
            "max_height": null,
            "align_content": null,
            "visibility": null,
            "align_self": null,
            "height": null,
            "min_height": null,
            "padding": null,
            "grid_auto_rows": null,
            "grid_gap": null,
            "max_width": null,
            "order": null,
            "_view_module_version": "1.2.0",
            "grid_template_areas": null,
            "object_position": null,
            "object_fit": null,
            "grid_auto_columns": null,
            "margin": null,
            "display": null,
            "left": null
          }
        },
        "fe80c22f8cbf41088770d00bebef2a7e": {
          "model_module": "@jupyter-widgets/controls",
          "model_name": "FloatProgressModel",
          "state": {
            "_view_name": "ProgressView",
            "style": "IPY_MODEL_9bc5c780c6944725be575a14731fe745",
            "_dom_classes": [],
            "description": "Downloading: 100%",
            "_model_name": "FloatProgressModel",
            "bar_style": "success",
            "max": 570,
            "_view_module": "@jupyter-widgets/controls",
            "_model_module_version": "1.5.0",
            "value": 570,
            "_view_count": null,
            "_view_module_version": "1.5.0",
            "orientation": "horizontal",
            "min": 0,
            "description_tooltip": null,
            "_model_module": "@jupyter-widgets/controls",
            "layout": "IPY_MODEL_2fe6a45f86d14df9866bec71617c9f0b"
          }
        },
        "5fb64134da254925887575199a851808": {
          "model_module": "@jupyter-widgets/controls",
          "model_name": "HTMLModel",
          "state": {
            "_view_name": "HTMLView",
            "style": "IPY_MODEL_f7b1c96d185f4673a3002ff72f139200",
            "_dom_classes": [],
            "description": "",
            "_model_name": "HTMLModel",
            "placeholder": "​",
            "_view_module": "@jupyter-widgets/controls",
            "_model_module_version": "1.5.0",
            "value": " 570/570 [00:23&lt;00:00, 24.2B/s]",
            "_view_count": null,
            "_view_module_version": "1.5.0",
            "description_tooltip": null,
            "_model_module": "@jupyter-widgets/controls",
            "layout": "IPY_MODEL_12946fa5a0da463cbf82250f5561387e"
          }
        },
        "9bc5c780c6944725be575a14731fe745": {
          "model_module": "@jupyter-widgets/controls",
          "model_name": "ProgressStyleModel",
          "state": {
            "_view_name": "StyleView",
            "_model_name": "ProgressStyleModel",
            "description_width": "initial",
            "_view_module": "@jupyter-widgets/base",
            "_model_module_version": "1.5.0",
            "_view_count": null,
            "_view_module_version": "1.2.0",
            "bar_color": null,
            "_model_module": "@jupyter-widgets/controls"
          }
        },
        "2fe6a45f86d14df9866bec71617c9f0b": {
          "model_module": "@jupyter-widgets/base",
          "model_name": "LayoutModel",
          "state": {
            "_view_name": "LayoutView",
            "grid_template_rows": null,
            "right": null,
            "justify_content": null,
            "_view_module": "@jupyter-widgets/base",
            "overflow": null,
            "_model_module_version": "1.2.0",
            "_view_count": null,
            "flex_flow": null,
            "width": null,
            "min_width": null,
            "border": null,
            "align_items": null,
            "bottom": null,
            "_model_module": "@jupyter-widgets/base",
            "top": null,
            "grid_column": null,
            "overflow_y": null,
            "overflow_x": null,
            "grid_auto_flow": null,
            "grid_area": null,
            "grid_template_columns": null,
            "flex": null,
            "_model_name": "LayoutModel",
            "justify_items": null,
            "grid_row": null,
            "max_height": null,
            "align_content": null,
            "visibility": null,
            "align_self": null,
            "height": null,
            "min_height": null,
            "padding": null,
            "grid_auto_rows": null,
            "grid_gap": null,
            "max_width": null,
            "order": null,
            "_view_module_version": "1.2.0",
            "grid_template_areas": null,
            "object_position": null,
            "object_fit": null,
            "grid_auto_columns": null,
            "margin": null,
            "display": null,
            "left": null
          }
        },
        "f7b1c96d185f4673a3002ff72f139200": {
          "model_module": "@jupyter-widgets/controls",
          "model_name": "DescriptionStyleModel",
          "state": {
            "_view_name": "StyleView",
            "_model_name": "DescriptionStyleModel",
            "description_width": "",
            "_view_module": "@jupyter-widgets/base",
            "_model_module_version": "1.5.0",
            "_view_count": null,
            "_view_module_version": "1.2.0",
            "_model_module": "@jupyter-widgets/controls"
          }
        },
        "12946fa5a0da463cbf82250f5561387e": {
          "model_module": "@jupyter-widgets/base",
          "model_name": "LayoutModel",
          "state": {
            "_view_name": "LayoutView",
            "grid_template_rows": null,
            "right": null,
            "justify_content": null,
            "_view_module": "@jupyter-widgets/base",
            "overflow": null,
            "_model_module_version": "1.2.0",
            "_view_count": null,
            "flex_flow": null,
            "width": null,
            "min_width": null,
            "border": null,
            "align_items": null,
            "bottom": null,
            "_model_module": "@jupyter-widgets/base",
            "top": null,
            "grid_column": null,
            "overflow_y": null,
            "overflow_x": null,
            "grid_auto_flow": null,
            "grid_area": null,
            "grid_template_columns": null,
            "flex": null,
            "_model_name": "LayoutModel",
            "justify_items": null,
            "grid_row": null,
            "max_height": null,
            "align_content": null,
            "visibility": null,
            "align_self": null,
            "height": null,
            "min_height": null,
            "padding": null,
            "grid_auto_rows": null,
            "grid_gap": null,
            "max_width": null,
            "order": null,
            "_view_module_version": "1.2.0",
            "grid_template_areas": null,
            "object_position": null,
            "object_fit": null,
            "grid_auto_columns": null,
            "margin": null,
            "display": null,
            "left": null
          }
        },
        "8e5437e61bca469bbcc70c89aaee8397": {
          "model_module": "@jupyter-widgets/controls",
          "model_name": "HBoxModel",
          "state": {
            "_view_name": "HBoxView",
            "_dom_classes": [],
            "_model_name": "HBoxModel",
            "_view_module": "@jupyter-widgets/controls",
            "_model_module_version": "1.5.0",
            "_view_count": null,
            "_view_module_version": "1.5.0",
            "box_style": "",
            "layout": "IPY_MODEL_4e046c7753744c5182a5508d55d3a67c",
            "_model_module": "@jupyter-widgets/controls",
            "children": [
              "IPY_MODEL_96529061c87a44cabb963fe9cfa665f6",
              "IPY_MODEL_ced66dd3d9a343f9bc22bff7bf6bfff5"
            ]
          }
        },
        "4e046c7753744c5182a5508d55d3a67c": {
          "model_module": "@jupyter-widgets/base",
          "model_name": "LayoutModel",
          "state": {
            "_view_name": "LayoutView",
            "grid_template_rows": null,
            "right": null,
            "justify_content": null,
            "_view_module": "@jupyter-widgets/base",
            "overflow": null,
            "_model_module_version": "1.2.0",
            "_view_count": null,
            "flex_flow": null,
            "width": null,
            "min_width": null,
            "border": null,
            "align_items": null,
            "bottom": null,
            "_model_module": "@jupyter-widgets/base",
            "top": null,
            "grid_column": null,
            "overflow_y": null,
            "overflow_x": null,
            "grid_auto_flow": null,
            "grid_area": null,
            "grid_template_columns": null,
            "flex": null,
            "_model_name": "LayoutModel",
            "justify_items": null,
            "grid_row": null,
            "max_height": null,
            "align_content": null,
            "visibility": null,
            "align_self": null,
            "height": null,
            "min_height": null,
            "padding": null,
            "grid_auto_rows": null,
            "grid_gap": null,
            "max_width": null,
            "order": null,
            "_view_module_version": "1.2.0",
            "grid_template_areas": null,
            "object_position": null,
            "object_fit": null,
            "grid_auto_columns": null,
            "margin": null,
            "display": null,
            "left": null
          }
        },
        "96529061c87a44cabb963fe9cfa665f6": {
          "model_module": "@jupyter-widgets/controls",
          "model_name": "FloatProgressModel",
          "state": {
            "_view_name": "ProgressView",
            "style": "IPY_MODEL_0f4ae4da64cb4e3a9303437dcd0f71b5",
            "_dom_classes": [],
            "description": "Downloading: 100%",
            "_model_name": "FloatProgressModel",
            "bar_style": "success",
            "max": 440473133,
            "_view_module": "@jupyter-widgets/controls",
            "_model_module_version": "1.5.0",
            "value": 440473133,
            "_view_count": null,
            "_view_module_version": "1.5.0",
            "orientation": "horizontal",
            "min": 0,
            "description_tooltip": null,
            "_model_module": "@jupyter-widgets/controls",
            "layout": "IPY_MODEL_dd334dd7ce1d431ea09bdace76ffa153"
          }
        },
        "ced66dd3d9a343f9bc22bff7bf6bfff5": {
          "model_module": "@jupyter-widgets/controls",
          "model_name": "HTMLModel",
          "state": {
            "_view_name": "HTMLView",
            "style": "IPY_MODEL_53c817f27e7e4c0cbec2e0877602b24c",
            "_dom_classes": [],
            "description": "",
            "_model_name": "HTMLModel",
            "placeholder": "​",
            "_view_module": "@jupyter-widgets/controls",
            "_model_module_version": "1.5.0",
            "value": " 440M/440M [00:22&lt;00:00, 19.6MB/s]",
            "_view_count": null,
            "_view_module_version": "1.5.0",
            "description_tooltip": null,
            "_model_module": "@jupyter-widgets/controls",
            "layout": "IPY_MODEL_7c27194774604200b6dbd0f4b803238a"
          }
        },
        "0f4ae4da64cb4e3a9303437dcd0f71b5": {
          "model_module": "@jupyter-widgets/controls",
          "model_name": "ProgressStyleModel",
          "state": {
            "_view_name": "StyleView",
            "_model_name": "ProgressStyleModel",
            "description_width": "initial",
            "_view_module": "@jupyter-widgets/base",
            "_model_module_version": "1.5.0",
            "_view_count": null,
            "_view_module_version": "1.2.0",
            "bar_color": null,
            "_model_module": "@jupyter-widgets/controls"
          }
        },
        "dd334dd7ce1d431ea09bdace76ffa153": {
          "model_module": "@jupyter-widgets/base",
          "model_name": "LayoutModel",
          "state": {
            "_view_name": "LayoutView",
            "grid_template_rows": null,
            "right": null,
            "justify_content": null,
            "_view_module": "@jupyter-widgets/base",
            "overflow": null,
            "_model_module_version": "1.2.0",
            "_view_count": null,
            "flex_flow": null,
            "width": null,
            "min_width": null,
            "border": null,
            "align_items": null,
            "bottom": null,
            "_model_module": "@jupyter-widgets/base",
            "top": null,
            "grid_column": null,
            "overflow_y": null,
            "overflow_x": null,
            "grid_auto_flow": null,
            "grid_area": null,
            "grid_template_columns": null,
            "flex": null,
            "_model_name": "LayoutModel",
            "justify_items": null,
            "grid_row": null,
            "max_height": null,
            "align_content": null,
            "visibility": null,
            "align_self": null,
            "height": null,
            "min_height": null,
            "padding": null,
            "grid_auto_rows": null,
            "grid_gap": null,
            "max_width": null,
            "order": null,
            "_view_module_version": "1.2.0",
            "grid_template_areas": null,
            "object_position": null,
            "object_fit": null,
            "grid_auto_columns": null,
            "margin": null,
            "display": null,
            "left": null
          }
        },
        "53c817f27e7e4c0cbec2e0877602b24c": {
          "model_module": "@jupyter-widgets/controls",
          "model_name": "DescriptionStyleModel",
          "state": {
            "_view_name": "StyleView",
            "_model_name": "DescriptionStyleModel",
            "description_width": "",
            "_view_module": "@jupyter-widgets/base",
            "_model_module_version": "1.5.0",
            "_view_count": null,
            "_view_module_version": "1.2.0",
            "_model_module": "@jupyter-widgets/controls"
          }
        },
        "7c27194774604200b6dbd0f4b803238a": {
          "model_module": "@jupyter-widgets/base",
          "model_name": "LayoutModel",
          "state": {
            "_view_name": "LayoutView",
            "grid_template_rows": null,
            "right": null,
            "justify_content": null,
            "_view_module": "@jupyter-widgets/base",
            "overflow": null,
            "_model_module_version": "1.2.0",
            "_view_count": null,
            "flex_flow": null,
            "width": null,
            "min_width": null,
            "border": null,
            "align_items": null,
            "bottom": null,
            "_model_module": "@jupyter-widgets/base",
            "top": null,
            "grid_column": null,
            "overflow_y": null,
            "overflow_x": null,
            "grid_auto_flow": null,
            "grid_area": null,
            "grid_template_columns": null,
            "flex": null,
            "_model_name": "LayoutModel",
            "justify_items": null,
            "grid_row": null,
            "max_height": null,
            "align_content": null,
            "visibility": null,
            "align_self": null,
            "height": null,
            "min_height": null,
            "padding": null,
            "grid_auto_rows": null,
            "grid_gap": null,
            "max_width": null,
            "order": null,
            "_view_module_version": "1.2.0",
            "grid_template_areas": null,
            "object_position": null,
            "object_fit": null,
            "grid_auto_columns": null,
            "margin": null,
            "display": null,
            "left": null
          }
        },
        "79797aa48edb492faf846c699bbfaf44": {
          "model_module": "@jupyter-widgets/controls",
          "model_name": "HBoxModel",
          "state": {
            "_view_name": "HBoxView",
            "_dom_classes": [],
            "_model_name": "HBoxModel",
            "_view_module": "@jupyter-widgets/controls",
            "_model_module_version": "1.5.0",
            "_view_count": null,
            "_view_module_version": "1.5.0",
            "box_style": "",
            "layout": "IPY_MODEL_1b6cdf16f7174ab0b7c94c27234c5348",
            "_model_module": "@jupyter-widgets/controls",
            "children": [
              "IPY_MODEL_becc0c2018fb4369b122bc999e086162",
              "IPY_MODEL_59ac9477dd6c449d8202727b09af45a4"
            ]
          }
        },
        "1b6cdf16f7174ab0b7c94c27234c5348": {
          "model_module": "@jupyter-widgets/base",
          "model_name": "LayoutModel",
          "state": {
            "_view_name": "LayoutView",
            "grid_template_rows": null,
            "right": null,
            "justify_content": null,
            "_view_module": "@jupyter-widgets/base",
            "overflow": null,
            "_model_module_version": "1.2.0",
            "_view_count": null,
            "flex_flow": null,
            "width": null,
            "min_width": null,
            "border": null,
            "align_items": null,
            "bottom": null,
            "_model_module": "@jupyter-widgets/base",
            "top": null,
            "grid_column": null,
            "overflow_y": null,
            "overflow_x": null,
            "grid_auto_flow": null,
            "grid_area": null,
            "grid_template_columns": null,
            "flex": null,
            "_model_name": "LayoutModel",
            "justify_items": null,
            "grid_row": null,
            "max_height": null,
            "align_content": null,
            "visibility": null,
            "align_self": null,
            "height": null,
            "min_height": null,
            "padding": null,
            "grid_auto_rows": null,
            "grid_gap": null,
            "max_width": null,
            "order": null,
            "_view_module_version": "1.2.0",
            "grid_template_areas": null,
            "object_position": null,
            "object_fit": null,
            "grid_auto_columns": null,
            "margin": null,
            "display": null,
            "left": null
          }
        },
        "becc0c2018fb4369b122bc999e086162": {
          "model_module": "@jupyter-widgets/controls",
          "model_name": "FloatProgressModel",
          "state": {
            "_view_name": "ProgressView",
            "style": "IPY_MODEL_ce873ce83e73486188404189e47d4eb4",
            "_dom_classes": [],
            "description": "Downloading: 100%",
            "_model_name": "FloatProgressModel",
            "bar_style": "success",
            "max": 231508,
            "_view_module": "@jupyter-widgets/controls",
            "_model_module_version": "1.5.0",
            "value": 231508,
            "_view_count": null,
            "_view_module_version": "1.5.0",
            "orientation": "horizontal",
            "min": 0,
            "description_tooltip": null,
            "_model_module": "@jupyter-widgets/controls",
            "layout": "IPY_MODEL_78a7f0db9af54772aebbdf315366a3dd"
          }
        },
        "59ac9477dd6c449d8202727b09af45a4": {
          "model_module": "@jupyter-widgets/controls",
          "model_name": "HTMLModel",
          "state": {
            "_view_name": "HTMLView",
            "style": "IPY_MODEL_bff87260b7f54ec48646e3bce1f27397",
            "_dom_classes": [],
            "description": "",
            "_model_name": "HTMLModel",
            "placeholder": "​",
            "_view_module": "@jupyter-widgets/controls",
            "_model_module_version": "1.5.0",
            "value": " 232k/232k [00:05&lt;00:00, 43.0kB/s]",
            "_view_count": null,
            "_view_module_version": "1.5.0",
            "description_tooltip": null,
            "_model_module": "@jupyter-widgets/controls",
            "layout": "IPY_MODEL_d14e67904ccb4518b4f416f159ec8655"
          }
        },
        "ce873ce83e73486188404189e47d4eb4": {
          "model_module": "@jupyter-widgets/controls",
          "model_name": "ProgressStyleModel",
          "state": {
            "_view_name": "StyleView",
            "_model_name": "ProgressStyleModel",
            "description_width": "initial",
            "_view_module": "@jupyter-widgets/base",
            "_model_module_version": "1.5.0",
            "_view_count": null,
            "_view_module_version": "1.2.0",
            "bar_color": null,
            "_model_module": "@jupyter-widgets/controls"
          }
        },
        "78a7f0db9af54772aebbdf315366a3dd": {
          "model_module": "@jupyter-widgets/base",
          "model_name": "LayoutModel",
          "state": {
            "_view_name": "LayoutView",
            "grid_template_rows": null,
            "right": null,
            "justify_content": null,
            "_view_module": "@jupyter-widgets/base",
            "overflow": null,
            "_model_module_version": "1.2.0",
            "_view_count": null,
            "flex_flow": null,
            "width": null,
            "min_width": null,
            "border": null,
            "align_items": null,
            "bottom": null,
            "_model_module": "@jupyter-widgets/base",
            "top": null,
            "grid_column": null,
            "overflow_y": null,
            "overflow_x": null,
            "grid_auto_flow": null,
            "grid_area": null,
            "grid_template_columns": null,
            "flex": null,
            "_model_name": "LayoutModel",
            "justify_items": null,
            "grid_row": null,
            "max_height": null,
            "align_content": null,
            "visibility": null,
            "align_self": null,
            "height": null,
            "min_height": null,
            "padding": null,
            "grid_auto_rows": null,
            "grid_gap": null,
            "max_width": null,
            "order": null,
            "_view_module_version": "1.2.0",
            "grid_template_areas": null,
            "object_position": null,
            "object_fit": null,
            "grid_auto_columns": null,
            "margin": null,
            "display": null,
            "left": null
          }
        },
        "bff87260b7f54ec48646e3bce1f27397": {
          "model_module": "@jupyter-widgets/controls",
          "model_name": "DescriptionStyleModel",
          "state": {
            "_view_name": "StyleView",
            "_model_name": "DescriptionStyleModel",
            "description_width": "",
            "_view_module": "@jupyter-widgets/base",
            "_model_module_version": "1.5.0",
            "_view_count": null,
            "_view_module_version": "1.2.0",
            "_model_module": "@jupyter-widgets/controls"
          }
        },
        "d14e67904ccb4518b4f416f159ec8655": {
          "model_module": "@jupyter-widgets/base",
          "model_name": "LayoutModel",
          "state": {
            "_view_name": "LayoutView",
            "grid_template_rows": null,
            "right": null,
            "justify_content": null,
            "_view_module": "@jupyter-widgets/base",
            "overflow": null,
            "_model_module_version": "1.2.0",
            "_view_count": null,
            "flex_flow": null,
            "width": null,
            "min_width": null,
            "border": null,
            "align_items": null,
            "bottom": null,
            "_model_module": "@jupyter-widgets/base",
            "top": null,
            "grid_column": null,
            "overflow_y": null,
            "overflow_x": null,
            "grid_auto_flow": null,
            "grid_area": null,
            "grid_template_columns": null,
            "flex": null,
            "_model_name": "LayoutModel",
            "justify_items": null,
            "grid_row": null,
            "max_height": null,
            "align_content": null,
            "visibility": null,
            "align_self": null,
            "height": null,
            "min_height": null,
            "padding": null,
            "grid_auto_rows": null,
            "grid_gap": null,
            "max_width": null,
            "order": null,
            "_view_module_version": "1.2.0",
            "grid_template_areas": null,
            "object_position": null,
            "object_fit": null,
            "grid_auto_columns": null,
            "margin": null,
            "display": null,
            "left": null
          }
        },
        "f9f76ee9eace4849947708038c68bfb4": {
          "model_module": "@jupyter-widgets/controls",
          "model_name": "HBoxModel",
          "state": {
            "_view_name": "HBoxView",
            "_dom_classes": [],
            "_model_name": "HBoxModel",
            "_view_module": "@jupyter-widgets/controls",
            "_model_module_version": "1.5.0",
            "_view_count": null,
            "_view_module_version": "1.5.0",
            "box_style": "",
            "layout": "IPY_MODEL_541c2578b6ca4c3aae46e991a46e32a3",
            "_model_module": "@jupyter-widgets/controls",
            "children": [
              "IPY_MODEL_b1dc5f314b414123b5c37337fb4372d9",
              "IPY_MODEL_74d3eed78fd34bf8badd28cf4af4fe93"
            ]
          }
        },
        "541c2578b6ca4c3aae46e991a46e32a3": {
          "model_module": "@jupyter-widgets/base",
          "model_name": "LayoutModel",
          "state": {
            "_view_name": "LayoutView",
            "grid_template_rows": null,
            "right": null,
            "justify_content": null,
            "_view_module": "@jupyter-widgets/base",
            "overflow": null,
            "_model_module_version": "1.2.0",
            "_view_count": null,
            "flex_flow": null,
            "width": null,
            "min_width": null,
            "border": null,
            "align_items": null,
            "bottom": null,
            "_model_module": "@jupyter-widgets/base",
            "top": null,
            "grid_column": null,
            "overflow_y": null,
            "overflow_x": null,
            "grid_auto_flow": null,
            "grid_area": null,
            "grid_template_columns": null,
            "flex": null,
            "_model_name": "LayoutModel",
            "justify_items": null,
            "grid_row": null,
            "max_height": null,
            "align_content": null,
            "visibility": null,
            "align_self": null,
            "height": null,
            "min_height": null,
            "padding": null,
            "grid_auto_rows": null,
            "grid_gap": null,
            "max_width": null,
            "order": null,
            "_view_module_version": "1.2.0",
            "grid_template_areas": null,
            "object_position": null,
            "object_fit": null,
            "grid_auto_columns": null,
            "margin": null,
            "display": null,
            "left": null
          }
        },
        "b1dc5f314b414123b5c37337fb4372d9": {
          "model_module": "@jupyter-widgets/controls",
          "model_name": "FloatProgressModel",
          "state": {
            "_view_name": "ProgressView",
            "style": "IPY_MODEL_265cde00d8d94c5ca136e65a83097b3a",
            "_dom_classes": [],
            "description": "Downloading: 100%",
            "_model_name": "FloatProgressModel",
            "bar_style": "success",
            "max": 28,
            "_view_module": "@jupyter-widgets/controls",
            "_model_module_version": "1.5.0",
            "value": 28,
            "_view_count": null,
            "_view_module_version": "1.5.0",
            "orientation": "horizontal",
            "min": 0,
            "description_tooltip": null,
            "_model_module": "@jupyter-widgets/controls",
            "layout": "IPY_MODEL_5ab65053581c49f8b1cad56e5dae718c"
          }
        },
        "74d3eed78fd34bf8badd28cf4af4fe93": {
          "model_module": "@jupyter-widgets/controls",
          "model_name": "HTMLModel",
          "state": {
            "_view_name": "HTMLView",
            "style": "IPY_MODEL_868c7a553dc8443a86b2d00f2996089f",
            "_dom_classes": [],
            "description": "",
            "_model_name": "HTMLModel",
            "placeholder": "​",
            "_view_module": "@jupyter-widgets/controls",
            "_model_module_version": "1.5.0",
            "value": " 28.0/28.0 [00:01&lt;00:00, 14.9B/s]",
            "_view_count": null,
            "_view_module_version": "1.5.0",
            "description_tooltip": null,
            "_model_module": "@jupyter-widgets/controls",
            "layout": "IPY_MODEL_8c5a9736571d4223a16e7e38f7d6281c"
          }
        },
        "265cde00d8d94c5ca136e65a83097b3a": {
          "model_module": "@jupyter-widgets/controls",
          "model_name": "ProgressStyleModel",
          "state": {
            "_view_name": "StyleView",
            "_model_name": "ProgressStyleModel",
            "description_width": "initial",
            "_view_module": "@jupyter-widgets/base",
            "_model_module_version": "1.5.0",
            "_view_count": null,
            "_view_module_version": "1.2.0",
            "bar_color": null,
            "_model_module": "@jupyter-widgets/controls"
          }
        },
        "5ab65053581c49f8b1cad56e5dae718c": {
          "model_module": "@jupyter-widgets/base",
          "model_name": "LayoutModel",
          "state": {
            "_view_name": "LayoutView",
            "grid_template_rows": null,
            "right": null,
            "justify_content": null,
            "_view_module": "@jupyter-widgets/base",
            "overflow": null,
            "_model_module_version": "1.2.0",
            "_view_count": null,
            "flex_flow": null,
            "width": null,
            "min_width": null,
            "border": null,
            "align_items": null,
            "bottom": null,
            "_model_module": "@jupyter-widgets/base",
            "top": null,
            "grid_column": null,
            "overflow_y": null,
            "overflow_x": null,
            "grid_auto_flow": null,
            "grid_area": null,
            "grid_template_columns": null,
            "flex": null,
            "_model_name": "LayoutModel",
            "justify_items": null,
            "grid_row": null,
            "max_height": null,
            "align_content": null,
            "visibility": null,
            "align_self": null,
            "height": null,
            "min_height": null,
            "padding": null,
            "grid_auto_rows": null,
            "grid_gap": null,
            "max_width": null,
            "order": null,
            "_view_module_version": "1.2.0",
            "grid_template_areas": null,
            "object_position": null,
            "object_fit": null,
            "grid_auto_columns": null,
            "margin": null,
            "display": null,
            "left": null
          }
        },
        "868c7a553dc8443a86b2d00f2996089f": {
          "model_module": "@jupyter-widgets/controls",
          "model_name": "DescriptionStyleModel",
          "state": {
            "_view_name": "StyleView",
            "_model_name": "DescriptionStyleModel",
            "description_width": "",
            "_view_module": "@jupyter-widgets/base",
            "_model_module_version": "1.5.0",
            "_view_count": null,
            "_view_module_version": "1.2.0",
            "_model_module": "@jupyter-widgets/controls"
          }
        },
        "8c5a9736571d4223a16e7e38f7d6281c": {
          "model_module": "@jupyter-widgets/base",
          "model_name": "LayoutModel",
          "state": {
            "_view_name": "LayoutView",
            "grid_template_rows": null,
            "right": null,
            "justify_content": null,
            "_view_module": "@jupyter-widgets/base",
            "overflow": null,
            "_model_module_version": "1.2.0",
            "_view_count": null,
            "flex_flow": null,
            "width": null,
            "min_width": null,
            "border": null,
            "align_items": null,
            "bottom": null,
            "_model_module": "@jupyter-widgets/base",
            "top": null,
            "grid_column": null,
            "overflow_y": null,
            "overflow_x": null,
            "grid_auto_flow": null,
            "grid_area": null,
            "grid_template_columns": null,
            "flex": null,
            "_model_name": "LayoutModel",
            "justify_items": null,
            "grid_row": null,
            "max_height": null,
            "align_content": null,
            "visibility": null,
            "align_self": null,
            "height": null,
            "min_height": null,
            "padding": null,
            "grid_auto_rows": null,
            "grid_gap": null,
            "max_width": null,
            "order": null,
            "_view_module_version": "1.2.0",
            "grid_template_areas": null,
            "object_position": null,
            "object_fit": null,
            "grid_auto_columns": null,
            "margin": null,
            "display": null,
            "left": null
          }
        },
        "bc7956c3d19e4905ab96e1444ddd4348": {
          "model_module": "@jupyter-widgets/controls",
          "model_name": "HBoxModel",
          "state": {
            "_view_name": "HBoxView",
            "_dom_classes": [],
            "_model_name": "HBoxModel",
            "_view_module": "@jupyter-widgets/controls",
            "_model_module_version": "1.5.0",
            "_view_count": null,
            "_view_module_version": "1.5.0",
            "box_style": "",
            "layout": "IPY_MODEL_a29cdcfef8d24905b98b317a596bfcfc",
            "_model_module": "@jupyter-widgets/controls",
            "children": [
              "IPY_MODEL_761dda023ea942009710c234963d9444",
              "IPY_MODEL_18ce033971c040cd95bfd63c4a90d86e"
            ]
          }
        },
        "a29cdcfef8d24905b98b317a596bfcfc": {
          "model_module": "@jupyter-widgets/base",
          "model_name": "LayoutModel",
          "state": {
            "_view_name": "LayoutView",
            "grid_template_rows": null,
            "right": null,
            "justify_content": null,
            "_view_module": "@jupyter-widgets/base",
            "overflow": null,
            "_model_module_version": "1.2.0",
            "_view_count": null,
            "flex_flow": null,
            "width": null,
            "min_width": null,
            "border": null,
            "align_items": null,
            "bottom": null,
            "_model_module": "@jupyter-widgets/base",
            "top": null,
            "grid_column": null,
            "overflow_y": null,
            "overflow_x": null,
            "grid_auto_flow": null,
            "grid_area": null,
            "grid_template_columns": null,
            "flex": null,
            "_model_name": "LayoutModel",
            "justify_items": null,
            "grid_row": null,
            "max_height": null,
            "align_content": null,
            "visibility": null,
            "align_self": null,
            "height": null,
            "min_height": null,
            "padding": null,
            "grid_auto_rows": null,
            "grid_gap": null,
            "max_width": null,
            "order": null,
            "_view_module_version": "1.2.0",
            "grid_template_areas": null,
            "object_position": null,
            "object_fit": null,
            "grid_auto_columns": null,
            "margin": null,
            "display": null,
            "left": null
          }
        },
        "761dda023ea942009710c234963d9444": {
          "model_module": "@jupyter-widgets/controls",
          "model_name": "FloatProgressModel",
          "state": {
            "_view_name": "ProgressView",
            "style": "IPY_MODEL_750e2f0938c64aaeb3c6b2526ec7faed",
            "_dom_classes": [],
            "description": "Downloading: 100%",
            "_model_name": "FloatProgressModel",
            "bar_style": "success",
            "max": 466062,
            "_view_module": "@jupyter-widgets/controls",
            "_model_module_version": "1.5.0",
            "value": 466062,
            "_view_count": null,
            "_view_module_version": "1.5.0",
            "orientation": "horizontal",
            "min": 0,
            "description_tooltip": null,
            "_model_module": "@jupyter-widgets/controls",
            "layout": "IPY_MODEL_274551e029224be8a26b883acd59bf02"
          }
        },
        "18ce033971c040cd95bfd63c4a90d86e": {
          "model_module": "@jupyter-widgets/controls",
          "model_name": "HTMLModel",
          "state": {
            "_view_name": "HTMLView",
            "style": "IPY_MODEL_d1d0908965084c2495a80bc54933c557",
            "_dom_classes": [],
            "description": "",
            "_model_name": "HTMLModel",
            "placeholder": "​",
            "_view_module": "@jupyter-widgets/controls",
            "_model_module_version": "1.5.0",
            "value": " 466k/466k [00:00&lt;00:00, 1.16MB/s]",
            "_view_count": null,
            "_view_module_version": "1.5.0",
            "description_tooltip": null,
            "_model_module": "@jupyter-widgets/controls",
            "layout": "IPY_MODEL_4f1a559075874f339a5bb791f36f0f41"
          }
        },
        "750e2f0938c64aaeb3c6b2526ec7faed": {
          "model_module": "@jupyter-widgets/controls",
          "model_name": "ProgressStyleModel",
          "state": {
            "_view_name": "StyleView",
            "_model_name": "ProgressStyleModel",
            "description_width": "initial",
            "_view_module": "@jupyter-widgets/base",
            "_model_module_version": "1.5.0",
            "_view_count": null,
            "_view_module_version": "1.2.0",
            "bar_color": null,
            "_model_module": "@jupyter-widgets/controls"
          }
        },
        "274551e029224be8a26b883acd59bf02": {
          "model_module": "@jupyter-widgets/base",
          "model_name": "LayoutModel",
          "state": {
            "_view_name": "LayoutView",
            "grid_template_rows": null,
            "right": null,
            "justify_content": null,
            "_view_module": "@jupyter-widgets/base",
            "overflow": null,
            "_model_module_version": "1.2.0",
            "_view_count": null,
            "flex_flow": null,
            "width": null,
            "min_width": null,
            "border": null,
            "align_items": null,
            "bottom": null,
            "_model_module": "@jupyter-widgets/base",
            "top": null,
            "grid_column": null,
            "overflow_y": null,
            "overflow_x": null,
            "grid_auto_flow": null,
            "grid_area": null,
            "grid_template_columns": null,
            "flex": null,
            "_model_name": "LayoutModel",
            "justify_items": null,
            "grid_row": null,
            "max_height": null,
            "align_content": null,
            "visibility": null,
            "align_self": null,
            "height": null,
            "min_height": null,
            "padding": null,
            "grid_auto_rows": null,
            "grid_gap": null,
            "max_width": null,
            "order": null,
            "_view_module_version": "1.2.0",
            "grid_template_areas": null,
            "object_position": null,
            "object_fit": null,
            "grid_auto_columns": null,
            "margin": null,
            "display": null,
            "left": null
          }
        },
        "d1d0908965084c2495a80bc54933c557": {
          "model_module": "@jupyter-widgets/controls",
          "model_name": "DescriptionStyleModel",
          "state": {
            "_view_name": "StyleView",
            "_model_name": "DescriptionStyleModel",
            "description_width": "",
            "_view_module": "@jupyter-widgets/base",
            "_model_module_version": "1.5.0",
            "_view_count": null,
            "_view_module_version": "1.2.0",
            "_model_module": "@jupyter-widgets/controls"
          }
        },
        "4f1a559075874f339a5bb791f36f0f41": {
          "model_module": "@jupyter-widgets/base",
          "model_name": "LayoutModel",
          "state": {
            "_view_name": "LayoutView",
            "grid_template_rows": null,
            "right": null,
            "justify_content": null,
            "_view_module": "@jupyter-widgets/base",
            "overflow": null,
            "_model_module_version": "1.2.0",
            "_view_count": null,
            "flex_flow": null,
            "width": null,
            "min_width": null,
            "border": null,
            "align_items": null,
            "bottom": null,
            "_model_module": "@jupyter-widgets/base",
            "top": null,
            "grid_column": null,
            "overflow_y": null,
            "overflow_x": null,
            "grid_auto_flow": null,
            "grid_area": null,
            "grid_template_columns": null,
            "flex": null,
            "_model_name": "LayoutModel",
            "justify_items": null,
            "grid_row": null,
            "max_height": null,
            "align_content": null,
            "visibility": null,
            "align_self": null,
            "height": null,
            "min_height": null,
            "padding": null,
            "grid_auto_rows": null,
            "grid_gap": null,
            "max_width": null,
            "order": null,
            "_view_module_version": "1.2.0",
            "grid_template_areas": null,
            "object_position": null,
            "object_fit": null,
            "grid_auto_columns": null,
            "margin": null,
            "display": null,
            "left": null
          }
        }
      }
    },
    "interpreter": {
      "hash": "07efdcd4b820c98a756949507a4d29d7862823915ec7477944641bea022f4f62"
    }
  },
  "cells": [
    {
      "cell_type": "markdown",
      "metadata": {
        "id": "xX-px-SGDNd7"
      },
      "source": [
        "# Dataset Preperation"
      ]
    },
    {
      "cell_type": "code",
      "metadata": {
        "colab": {
          "base_uri": "https://localhost:8080/"
        },
        "id": "6ldvANZwas17",
        "outputId": "5be7271a-f87d-45be-df1d-330757ee2978"
      },
      "source": [
        "#Need to upload dataset to own Gdrive first\n",
        "import torch\n",
        "import numpy as np\n",
        "from tqdm import tqdm\n",
        "import pandas as pd\n",
        "import torch.utils.data as data_utils\n",
        "\n",
        "import seaborn as sns\n",
        "import matplotlib.pyplot as plt\n"
      ],
      "execution_count": 1,
      "outputs": []
    },
    {
      "cell_type": "code",
      "metadata": {
        "colab": {
          "base_uri": "https://localhost:8080/",
          "height": 479
        },
        "id": "Ph5_yGljad0q",
        "outputId": "a96c466a-3731-4374-a304-f6479ae6d3ec"
      },
      "source": [
        "#Load dataset & reduce size for fast training (Only to familarise myself with pytorch)\n",
        "dataset = pd.read_csv(r'D:\\Desktop\\AI_term_8\\twitter\\TweetsCOV19_3.tsv', sep='\\t',header=None, error_bad_lines=False)\n",
        "dataset = dataset.iloc[:1000]\n",
        "dataset.columns = ['Tweet Id', 'Username','Timestamp','Followers','Friends','Retweets','Favourites','Entities','Sentiment','Mentions','Hashtags','URLS']\n",
        "followers = dataset.loc[:,['Followers']]\n",
        "retweets = dataset.loc[:,['Retweets']]\n",
        "positive_sentiment = dataset.loc[:,['Sentiment']]\n",
        "\n",
        "dataset.head()"
      ],
      "execution_count": 9,
      "outputs": [
        {
          "output_type": "stream",
          "name": "stderr",
          "text": [
            "b'Skipping line 9885107: expected 12 fields, saw 13\\n'\n"
          ]
        },
        {
          "output_type": "execute_result",
          "data": {
            "text/plain": [
              "              Tweet Id                          Username  \\\n",
              "0  1267214367881388035  4a493d9ef839054bbf2997fe10219ccd   \n",
              "1  1267214480192212993  601633f254c336271110c5837e831196   \n",
              "2  1267215059912179712  3b81eab3fb645a50b3d652a837c54ed5   \n",
              "3  1267215114438168582  d80da4bb147e3829b48e305795e84b0e   \n",
              "4  1267216070739464192  9e83fa483d2860d8147f9765d125e40b   \n",
              "\n",
              "                        Timestamp  Followers  Friends  Retweets  Favourites  \\\n",
              "0  Sun May 31 22:00:23 +0000 2020        525      285         0           0   \n",
              "1  Sun May 31 22:00:50 +0000 2020       4851     4948        56         103   \n",
              "2  Sun May 31 22:03:08 +0000 2020        145      234         0           0   \n",
              "3  Sun May 31 22:03:21 +0000 2020        130      581         0           0   \n",
              "4  Sun May 31 22:07:09 +0000 2020        263      241         0           0   \n",
              "\n",
              "                                            Entities Sentiment  \\\n",
              "0  orange chicken:Orange_chicken:-1.7264594681340...      1 -1   \n",
              "1  blacklivesmatter:Black_Lives_Matter:-2.0000780...      1 -1   \n",
              "2  birds of a feather:Birds_of_a_Feather:-1.45788...      1 -3   \n",
              "3  vote leave:Vote_Leave:-1.2547500378858394;tory...      1 -1   \n",
              "4  you re telling me:You%27re_Telling_Me%21:-1.79...      2 -3   \n",
              "\n",
              "                                     Mentions  \\\n",
              "0                                       null;   \n",
              "1                                       null;   \n",
              "2             QuarantineTrac1 BeardsleeSherri   \n",
              "3  lewis_goodall jo_penberthy ShippersUnbound   \n",
              "4                                       null;   \n",
              "\n",
              "                                            Hashtags   URLS  \n",
              "0                                  QuarantineCuisine  null;  \n",
              "1                                   blacklivesmatter  null;  \n",
              "2  democrats madness DemocraticPartyPoliticians p...  null;  \n",
              "3                                              null;  null;  \n",
              "4                                              null;  null;  "
            ],
            "text/html": "<div>\n<style scoped>\n    .dataframe tbody tr th:only-of-type {\n        vertical-align: middle;\n    }\n\n    .dataframe tbody tr th {\n        vertical-align: top;\n    }\n\n    .dataframe thead th {\n        text-align: right;\n    }\n</style>\n<table border=\"1\" class=\"dataframe\">\n  <thead>\n    <tr style=\"text-align: right;\">\n      <th></th>\n      <th>Tweet Id</th>\n      <th>Username</th>\n      <th>Timestamp</th>\n      <th>Followers</th>\n      <th>Friends</th>\n      <th>Retweets</th>\n      <th>Favourites</th>\n      <th>Entities</th>\n      <th>Sentiment</th>\n      <th>Mentions</th>\n      <th>Hashtags</th>\n      <th>URLS</th>\n    </tr>\n  </thead>\n  <tbody>\n    <tr>\n      <th>0</th>\n      <td>1267214367881388035</td>\n      <td>4a493d9ef839054bbf2997fe10219ccd</td>\n      <td>Sun May 31 22:00:23 +0000 2020</td>\n      <td>525</td>\n      <td>285</td>\n      <td>0</td>\n      <td>0</td>\n      <td>orange chicken:Orange_chicken:-1.7264594681340...</td>\n      <td>1 -1</td>\n      <td>null;</td>\n      <td>QuarantineCuisine</td>\n      <td>null;</td>\n    </tr>\n    <tr>\n      <th>1</th>\n      <td>1267214480192212993</td>\n      <td>601633f254c336271110c5837e831196</td>\n      <td>Sun May 31 22:00:50 +0000 2020</td>\n      <td>4851</td>\n      <td>4948</td>\n      <td>56</td>\n      <td>103</td>\n      <td>blacklivesmatter:Black_Lives_Matter:-2.0000780...</td>\n      <td>1 -1</td>\n      <td>null;</td>\n      <td>blacklivesmatter</td>\n      <td>null;</td>\n    </tr>\n    <tr>\n      <th>2</th>\n      <td>1267215059912179712</td>\n      <td>3b81eab3fb645a50b3d652a837c54ed5</td>\n      <td>Sun May 31 22:03:08 +0000 2020</td>\n      <td>145</td>\n      <td>234</td>\n      <td>0</td>\n      <td>0</td>\n      <td>birds of a feather:Birds_of_a_Feather:-1.45788...</td>\n      <td>1 -3</td>\n      <td>QuarantineTrac1 BeardsleeSherri</td>\n      <td>democrats madness DemocraticPartyPoliticians p...</td>\n      <td>null;</td>\n    </tr>\n    <tr>\n      <th>3</th>\n      <td>1267215114438168582</td>\n      <td>d80da4bb147e3829b48e305795e84b0e</td>\n      <td>Sun May 31 22:03:21 +0000 2020</td>\n      <td>130</td>\n      <td>581</td>\n      <td>0</td>\n      <td>0</td>\n      <td>vote leave:Vote_Leave:-1.2547500378858394;tory...</td>\n      <td>1 -1</td>\n      <td>lewis_goodall jo_penberthy ShippersUnbound</td>\n      <td>null;</td>\n      <td>null;</td>\n    </tr>\n    <tr>\n      <th>4</th>\n      <td>1267216070739464192</td>\n      <td>9e83fa483d2860d8147f9765d125e40b</td>\n      <td>Sun May 31 22:07:09 +0000 2020</td>\n      <td>263</td>\n      <td>241</td>\n      <td>0</td>\n      <td>0</td>\n      <td>you re telling me:You%27re_Telling_Me%21:-1.79...</td>\n      <td>2 -3</td>\n      <td>null;</td>\n      <td>null;</td>\n      <td>null;</td>\n    </tr>\n  </tbody>\n</table>\n</div>"
          },
          "metadata": {},
          "execution_count": 9
        }
      ]
    },
    {
      "cell_type": "code",
      "execution_count": 7,
      "metadata": {},
      "outputs": [],
      "source": [
        "import itertools \n",
        "import re\n",
        "from collections import Counter\n",
        "import operator\n",
        "from itertools import chain\n",
        "import sys\n",
        "\n",
        "def get_time(row):\n",
        "    hour_timestamp = row.Timestamp[11:13]\n",
        "    return hour_timestamp\n",
        "\n",
        "def get_weekend(row):\n",
        "    weekend_stamp = row.Timestamp[0:3]\n",
        "    if (weekend_stamp == \"Sun\" or weekend_stamp == \"Sat\"):\n",
        "        return 1\n",
        "    else: \n",
        "        return 0\n",
        "\n",
        "def get_day_of_week(row):\n",
        "    day_stamp = row.Timestamp[0:3]\n",
        "    if day_stamp == \"Mon\":\n",
        "        return 1\n",
        "    elif day_stamp == \"Tue\":\n",
        "        return 2\n",
        "    if day_stamp == \"Wed\":\n",
        "        return 3\n",
        "    if day_stamp == \"Thu\":\n",
        "        return 4\n",
        "    if day_stamp == \"Fri\":\n",
        "        return 5\n",
        "    if day_stamp == \"Sat\":\n",
        "        return 6\n",
        "    if day_stamp == \"Sun\":\n",
        "        return 7\n",
        "\n",
        "def get_friends_followers_ratio(row):\n",
        "    friends = row.Friends\n",
        "    followers = row.Followers\n",
        "    if followers == 0:\n",
        "        return 0\n",
        "    else:\n",
        "        return friends/followers\n",
        "\n",
        "def has_entity(row):\n",
        "    if row.Entities != \"null\":\n",
        "        return 1\n",
        "    else:\n",
        "        return 0\n",
        "\n",
        "        \n",
        "def no_tweets_per_user(row):\n",
        "    if row.Entities != \"null\":\n",
        "        return 1\n",
        "    else:\n",
        "        return 0\n",
        "\n",
        "def create_no_tweets_per_user_dict(df):\n",
        "    new_dict = dict()\n",
        "    for index, row in df.iterrows():\n",
        "        if row[\"Username\"] not in new_dict.keys():\n",
        "            new_dict[row[\"Username\"]] = 1\n",
        "        else:\n",
        "            new_dict[row[\"Username\"]] += 1\n",
        "    return new_dict\n",
        "\n",
        "def assign_number_of_tweets_to_user(row, dict):\n",
        "    return dict[row.Username]\n",
        "\n",
        "def create_urls_dict(df):\n",
        "    new_dict = dict()\n",
        "    for index, row in df.iterrows():\n",
        "        if row[\"URLS\"] not in new_dict.keys():\n",
        "            if row[\"URLS\"] != \"null;\":\n",
        "                new_dict[row[\"URLS\"]] = 1\n",
        "        else:\n",
        "            new_dict[row[\"URLS\"]] += 1\n",
        "    return new_dict\n",
        "\n",
        "def get_url_domain_popularity(row, dict):\n",
        "    if row.URLS == \"null;\":\n",
        "        return 0\n",
        "    else:\n",
        "        return dict[row.URLS]\n",
        "\n",
        "def get_mentions_count(row):\n",
        "    try:\n",
        "        return (len([y for y in row if len(y)>0 and y!=\"null\"]))\n",
        "    except:\n",
        "        print (\"Exception\")\n",
        "        print (row)\n",
        "\n",
        "def entities_splitter(x):\n",
        "    entity_list = []\n",
        "    that_entity_list = x.split(\";\")\n",
        "    for counter in range(0, len(that_entity_list)-1):\n",
        "        each_entity_list = that_entity_list[counter].split(\":\")\n",
        "        that_entity = each_entity_list[0]\n",
        "        if that_entity == \"null\":\n",
        "            pass\n",
        "        else:\n",
        "            entity_list.append(that_entity)\n",
        "    return(entity_list)\n",
        "\n",
        "def get_top_hashtags(df):\n",
        "    colnames = ['Tweet Id','Hashtags']\n",
        "    df2 = df[colnames]\n",
        "\n",
        "    df3 = df2\n",
        "    df3['Hashtags'] = df2['Hashtags'].str.lower()\n",
        "    df3['Hashtags'] = df3['Hashtags'].astype(str)\n",
        "\n",
        "    hashtag_list = df3['Hashtags'].tolist()\n",
        "    hashtag = []\n",
        "    for i in tqdm(range(len(hashtag_list))):\n",
        "        hashtag_all = ''.join(hashtag_list[i])\n",
        "        hashtag_all_clean = re.sub(r'[^\\w]', ' ', hashtag_all)\n",
        "        hashtag_null_removed = hashtag_all_clean.replace(\"null\", \"\")\n",
        "        hashtag_under_removed = hashtag_null_removed.replace(\"_\", \"\")\n",
        "        hashtag_dash_removed = hashtag_under_removed.replace(\"-\", \"\")\n",
        "        hashtag_longdash_removed = hashtag_dash_removed.replace(\"ー\", \"\")\n",
        "        hashtag.append(hashtag_longdash_removed.split(' '))\n",
        "        \n",
        "    hashtag_all = ' '.join(hashtag_list)\n",
        "    hashtag_all_clean = re.sub(r'[^\\w]', ' ', hashtag_all)\n",
        "    hashtag_null_removed = hashtag_all_clean.replace(\"null\", \"\")\n",
        "    hashtag_under_removed = hashtag_null_removed.replace(\"_\", \"\")\n",
        "    hashtag_dash_removed = hashtag_under_removed.replace(\"-\", \"\")\n",
        "    hashtag_longdash_removed = hashtag_dash_removed.replace(\"ー\", \"\")\n",
        "    hashtag_list = hashtag_longdash_removed.split(' ')\n",
        "    hashtag_counter = Counter(hashtag_list)\n",
        "\n",
        "    dd = dict(sorted(hashtag_counter.items(), key=operator.itemgetter(1),reverse=True))\n",
        "    #manual cleaning\n",
        "    try:\n",
        "        dd.pop('')\n",
        "        dd.pop('1')\n",
        "        dd.pop('2')\n",
        "        dd.pop('0')\n",
        "        dd.pop('2020')\n",
        "        dd.pop('0000')\n",
        "        dd.pop('s')\n",
        "        dd.pop('19')\n",
        "        dd.pop('3')\n",
        "        dd.pop('29')\n",
        "        dd.pop('21')\n",
        "    except:\n",
        "        print (\"Error popping value in get_top_hashtags function\")\n",
        "    \n",
        "    k = Counter(dd)\n",
        "    high = k.most_common(20) \n",
        "    top20hashtag_list = []\n",
        "    for i in range(len(high)):\n",
        "        top20hashtag_list.append(high[i][0])\n",
        "    \n",
        "\n",
        "    top20hashtagcol = []\n",
        "    for i in tqdm(range(len(hashtag))):\n",
        "        counter = 0\n",
        "        for j in range(len(hashtag[i])):\n",
        "            if hashtag[i][j] in top20hashtag_list:\n",
        "                counter += 1\n",
        "        top20hashtagcol.append(counter)\n",
        "        \n",
        "    df['hashtag_popularity'] = top20hashtagcol\n",
        "    \n",
        "    return df\n",
        "\n",
        "def get_top_entities(df):\n",
        "    # required to get entities_list column from entities_splitter function \n",
        "    df[\"entities_list\"] = df[\"Entities\"].apply(entities_splitter)\n",
        "    entities_list = df['entities_list'].tolist()\n",
        "    entities_all = list(chain(*entities_list))\n",
        "    entities_counter = Counter(entities_all)\n",
        "    dd = dict(sorted(entities_counter.items(), key=operator.itemgetter(1),reverse=True))\n",
        "    k = Counter(dd)\n",
        "    high = k.most_common(20) \n",
        "\n",
        "    top20entities_list = []\n",
        "    for i in range(len(high)):\n",
        "        top20entities_list.append(high[i][0])\n",
        "\n",
        "\n",
        "    top20entitiescol = []\n",
        "    for i in tqdm(range(len(entities_list))):\n",
        "        counter = 0\n",
        "        for j in range(len(entities_list[i])):\n",
        "            if entities_list[i][j] in top20entities_list:\n",
        "                counter += 1\n",
        "        top20entitiescol.append(counter)\n",
        "\n",
        "    df['entities_popularity'] = top20entitiescol\n",
        "    \n",
        "    return df\n",
        "\n",
        "def get_top_mentions(df):\n",
        "    df['Mentions'] = df['Mentions'].str.lower()\n",
        "    df['Mentions'] = df['Mentions'].astype(str)\n",
        "    mentions_list = df['Mentions'].tolist()\n",
        "    for i in range(len(mentions_list)):\n",
        "        x = mentions_list[i].replace(\" \", \",\")\n",
        "        mentions_list[i]= x.split(\",\")\n",
        "        if mentions_list[i] == ['null;']:\n",
        "            mentions_list[i].clear()\n",
        "    from itertools import chain\n",
        "    mentions_all = list(chain(*mentions_list))\n",
        "    mentions_counter = Counter(mentions_all)\n",
        "    dd = dict(sorted(mentions_counter.items(), key=operator.itemgetter(1),reverse=True))\n",
        "    try:\n",
        "        dd.pop('')\n",
        "        dd.pop('+0000')\n",
        "    except:\n",
        "        print (\"Error trying to pop value from get top mentions\")\n",
        "\n",
        "    k = Counter(dd)\n",
        "    high = k.most_common(20) \n",
        "\n",
        "    top20mentions_list = []\n",
        "    for i in range(len(high)):\n",
        "        top20mentions_list.append(high[i][0])\n",
        "\n",
        "\n",
        "    top20mentionscol = []\n",
        "    for i in tqdm(range(len(mentions_list))):\n",
        "        counter = 0\n",
        "        for j in range(len(mentions_list[i])):\n",
        "            if mentions_list[i][j] in top20mentions_list:\n",
        "                counter += 1\n",
        "        top20mentionscol.append(counter)\n",
        "\n",
        "    df['mentions_popularity'] = top20mentionscol\n",
        "    return df\n",
        "\n",
        "def compile_top_20_entities_for_each_day(df):\n",
        "\n",
        "    def get_unique_date(time_stamp):\n",
        "        day_and_month = time_stamp[4:9]\n",
        "        year = time_stamp[26:30]\n",
        "        unique_date = day_and_month + \";\" + year\n",
        "        return unique_date\n",
        "        \n",
        "    #2. No. of Top 20 Entities\n",
        "    entities_list = {} #Storing the top 20 entities per unique day for every day\n",
        "\n",
        "    for unique_date in df[\"Timestamp\"].unique(): #Iterating through all the unique dates\n",
        "        #unique_date = get_unique_date(time_stamp)\n",
        "       \n",
        "        temp_df = df[df[\"Timestamp\"] == unique_date] #Slicing the dataframe containing that unique date\n",
        "        that_date_entities_list = {} #Create a dict to store the unique entities in that day\n",
        "        \n",
        "        for index,row in temp_df.iterrows(): #Iterating through all the entries in the dataframe for that unique date\n",
        "            each_entities_list = row[\"Entities_List\"]\n",
        "            \n",
        "            for each_entity in each_entities_list: #Iterating through the different entities in that day\n",
        "                if each_entity == \"null;\": #Ignore the null entries in the list\n",
        "                    pass\n",
        "                elif each_entity in that_date_entities_list: #Check if the entities is already contained in the list\n",
        "                    that_date_entities_list[each_entity] += 1\n",
        "                else: #Create a new entry for an unseen entities\n",
        "                    that_date_entities_list[each_entity] = 1\n",
        "\n",
        "        sorted_dict = sorted(that_date_entities_list.items(), key=lambda x: x[1], reverse=True) #Sort the dictionary in descending order for frequency of item occurrence\n",
        "        top_20_entities_for_that_date = dict(itertools.islice(sorted_dict, 20)) #Take the top 20 entities occurrence\n",
        "        \n",
        "        entities_list[unique_date] = top_20_entities_for_that_date\n",
        "\n",
        "    print (entities_list)\n",
        "\n",
        "    '''\n",
        "    for index, row in df.iterrows(): #Iterating through every entry in the dataset to determine how many of the hastags it contains\n",
        "        that_date_entities_list = entities_list[row[\"Timestamp\"]] #Get the unique date for that particular entry\n",
        "        entry_entity_list = list(df.iloc[[index]][\"Entities_List\"])[0] #INDEX OUT OF BOUNDS\n",
        "        \n",
        "        for each_entity in entry_entity_list: #Iterating through the different entities in that entry \n",
        "            if each_entity in that_date_entities_list.keys(): #Check if the entities is in the top 20 entities that day\n",
        "                df.at[index, \"No. of top 20 Entities\"] += 1\n",
        "    '''\n",
        "        \n",
        "    print (\"entities list\", entities_list)\n",
        "\n",
        "def format_time_data(dataset):\n",
        "   # def strip_time(timestamp):\n",
        "   #     try:\n",
        "   #         return \n",
        "\n",
        "    dataset[\"Timestamp_list\"] = dataset[\"Timestamp\"].apply(lambda x: x.split(\" \"))\n",
        "    dataset[\"Timestamp_list\"] = dataset[\"Timestamp_list\"].apply(lambda x: x[:4] + x[5:])\n",
        "    separator = \" \"\n",
        "    dataset[\"Timestamp\"] = dataset[\"Timestamp_list\"].apply(lambda x: separator.join(x))\n",
        "    dataset = dataset.drop(['Timestamp_list'], axis=1)\n",
        "    dataset[\"Timestamp\"] = dataset[\"Timestamp\"].apply(lambda x: datetime.strptime(x, \"%a %b %d %H:%M:%S %Y\"))\n",
        "    dataset[\"Timestamp\"] = dataset[\"Timestamp\"].apply(lambda x: datetime.strftime(x, '%Y/%m/%d'))\n",
        "\n",
        "    return dataset\n",
        "\n"
      ]
    },
    {
      "cell_type": "code",
      "execution_count": 4,
      "metadata": {},
      "outputs": [],
      "source": [
        "#Preprocessing"
      ]
    },
    {
      "cell_type": "code",
      "execution_count": 10,
      "metadata": {},
      "outputs": [
        {
          "output_type": "stream",
          "name": "stderr",
          "text": [
            "D:\\Anaconda\\lib\\site-packages\\ipykernel_launcher.py:109: SettingWithCopyWarning: \n",
            "A value is trying to be set on a copy of a slice from a DataFrame.\n",
            "Try using .loc[row_indexer,col_indexer] = value instead\n",
            "\n",
            "See the caveats in the documentation: http://pandas.pydata.org/pandas-docs/stable/indexing.html#indexing-view-versus-copy\n",
            "D:\\Anaconda\\lib\\site-packages\\ipykernel_launcher.py:110: SettingWithCopyWarning: \n",
            "A value is trying to be set on a copy of a slice from a DataFrame.\n",
            "Try using .loc[row_indexer,col_indexer] = value instead\n",
            "\n",
            "See the caveats in the documentation: http://pandas.pydata.org/pandas-docs/stable/indexing.html#indexing-view-versus-copy\n",
            "100%|██████████| 999/999 [00:00<00:00, 170794.84it/s]\n",
            "Error popping value in get_top_hashtags function\n",
            "100%|██████████| 999/999 [00:00<00:00, 366396.44it/s]\n",
            "100%|██████████| 999/999 [00:00<00:00, 341158.58it/s]\n",
            "Error trying to pop value from get top mentions\n",
            "100%|██████████| 999/999 [00:00<00:00, 346204.22it/s]\n",
            "['Tweet Id', 'Username', 'Timestamp', 'Followers', 'Friends', 'Retweets', 'Favourites', 'Entities', 'Sentiment', 'Mentions', 'Hashtags', 'URLS', 'Positive_Sentiment', 'Negative_Sentiment', 'Overall Sentiment', 'Entity_count', 'Hashtags_count', 'Mentions_count', 'URLS_count', 'time', 'weekend', 'day_of_week', 'friends_followers_ratio', 'number_of_tweets_per_user', 'URL_domain_popularity', 'hashtag_popularity', 'entities_popularity', 'mentions_popularity']\n"
          ]
        },
        {
          "output_type": "execute_result",
          "data": {
            "text/plain": [
              "              Tweet Id                          Username  \\\n",
              "0  1267214367881388035  4a493d9ef839054bbf2997fe10219ccd   \n",
              "1  1267214480192212993  601633f254c336271110c5837e831196   \n",
              "2  1267215059912179712  3b81eab3fb645a50b3d652a837c54ed5   \n",
              "3  1267215114438168582  d80da4bb147e3829b48e305795e84b0e   \n",
              "4  1267216070739464192  9e83fa483d2860d8147f9765d125e40b   \n",
              "\n",
              "                        Timestamp  Followers  Friends  Retweets  Favourites  \\\n",
              "0  Sun May 31 22:00:23 +0000 2020        525      285         0           0   \n",
              "1  Sun May 31 22:00:50 +0000 2020       4851     4948        56         103   \n",
              "2  Sun May 31 22:03:08 +0000 2020        145      234         0           0   \n",
              "3  Sun May 31 22:03:21 +0000 2020        130      581         0           0   \n",
              "4  Sun May 31 22:07:09 +0000 2020        263      241         0           0   \n",
              "\n",
              "                                            Entities Sentiment  \\\n",
              "0  orange chicken:orange_chicken:-1.7264594681340...      1 -1   \n",
              "1  blacklivesmatter:black_lives_matter:-2.0000780...      1 -1   \n",
              "2  birds of a feather:birds_of_a_feather:-1.45788...      1 -3   \n",
              "3  vote leave:vote_leave:-1.2547500378858394;tory...      1 -1   \n",
              "4  you re telling me:you%27re_telling_me%21:-1.79...      2 -3   \n",
              "\n",
              "                                     Mentions  ... URLS_count time  weekend  \\\n",
              "0                                       null;  ...          0   22        1   \n",
              "1                                       null;  ...          0   22        1   \n",
              "2             quarantinetrac1 beardsleesherri  ...          0   22        1   \n",
              "3  lewis_goodall jo_penberthy shippersunbound  ...          0   22        1   \n",
              "4                                       null;  ...          0   22        1   \n",
              "\n",
              "   day_of_week  friends_followers_ratio  number_of_tweets_per_user  \\\n",
              "0            7                 0.542857                          1   \n",
              "1            7                 1.019996                          1   \n",
              "2            7                 1.613793                          1   \n",
              "3            7                 4.469231                          1   \n",
              "4            7                 0.916350                          1   \n",
              "\n",
              "   URL_domain_popularity  hashtag_popularity  entities_popularity  \\\n",
              "0                      0                   0                    0   \n",
              "1                      0                   1                    1   \n",
              "2                      0                   0                    1   \n",
              "3                      0                   0                    0   \n",
              "4                      0                   0                    0   \n",
              "\n",
              "  mentions_popularity  \n",
              "0                   0  \n",
              "1                   0  \n",
              "2                   1  \n",
              "3                   0  \n",
              "4                   0  \n",
              "\n",
              "[5 rows x 28 columns]"
            ],
            "text/html": "<div>\n<style scoped>\n    .dataframe tbody tr th:only-of-type {\n        vertical-align: middle;\n    }\n\n    .dataframe tbody tr th {\n        vertical-align: top;\n    }\n\n    .dataframe thead th {\n        text-align: right;\n    }\n</style>\n<table border=\"1\" class=\"dataframe\">\n  <thead>\n    <tr style=\"text-align: right;\">\n      <th></th>\n      <th>Tweet Id</th>\n      <th>Username</th>\n      <th>Timestamp</th>\n      <th>Followers</th>\n      <th>Friends</th>\n      <th>Retweets</th>\n      <th>Favourites</th>\n      <th>Entities</th>\n      <th>Sentiment</th>\n      <th>Mentions</th>\n      <th>...</th>\n      <th>URLS_count</th>\n      <th>time</th>\n      <th>weekend</th>\n      <th>day_of_week</th>\n      <th>friends_followers_ratio</th>\n      <th>number_of_tweets_per_user</th>\n      <th>URL_domain_popularity</th>\n      <th>hashtag_popularity</th>\n      <th>entities_popularity</th>\n      <th>mentions_popularity</th>\n    </tr>\n  </thead>\n  <tbody>\n    <tr>\n      <th>0</th>\n      <td>1267214367881388035</td>\n      <td>4a493d9ef839054bbf2997fe10219ccd</td>\n      <td>Sun May 31 22:00:23 +0000 2020</td>\n      <td>525</td>\n      <td>285</td>\n      <td>0</td>\n      <td>0</td>\n      <td>orange chicken:orange_chicken:-1.7264594681340...</td>\n      <td>1 -1</td>\n      <td>null;</td>\n      <td>...</td>\n      <td>0</td>\n      <td>22</td>\n      <td>1</td>\n      <td>7</td>\n      <td>0.542857</td>\n      <td>1</td>\n      <td>0</td>\n      <td>0</td>\n      <td>0</td>\n      <td>0</td>\n    </tr>\n    <tr>\n      <th>1</th>\n      <td>1267214480192212993</td>\n      <td>601633f254c336271110c5837e831196</td>\n      <td>Sun May 31 22:00:50 +0000 2020</td>\n      <td>4851</td>\n      <td>4948</td>\n      <td>56</td>\n      <td>103</td>\n      <td>blacklivesmatter:black_lives_matter:-2.0000780...</td>\n      <td>1 -1</td>\n      <td>null;</td>\n      <td>...</td>\n      <td>0</td>\n      <td>22</td>\n      <td>1</td>\n      <td>7</td>\n      <td>1.019996</td>\n      <td>1</td>\n      <td>0</td>\n      <td>1</td>\n      <td>1</td>\n      <td>0</td>\n    </tr>\n    <tr>\n      <th>2</th>\n      <td>1267215059912179712</td>\n      <td>3b81eab3fb645a50b3d652a837c54ed5</td>\n      <td>Sun May 31 22:03:08 +0000 2020</td>\n      <td>145</td>\n      <td>234</td>\n      <td>0</td>\n      <td>0</td>\n      <td>birds of a feather:birds_of_a_feather:-1.45788...</td>\n      <td>1 -3</td>\n      <td>quarantinetrac1 beardsleesherri</td>\n      <td>...</td>\n      <td>0</td>\n      <td>22</td>\n      <td>1</td>\n      <td>7</td>\n      <td>1.613793</td>\n      <td>1</td>\n      <td>0</td>\n      <td>0</td>\n      <td>1</td>\n      <td>1</td>\n    </tr>\n    <tr>\n      <th>3</th>\n      <td>1267215114438168582</td>\n      <td>d80da4bb147e3829b48e305795e84b0e</td>\n      <td>Sun May 31 22:03:21 +0000 2020</td>\n      <td>130</td>\n      <td>581</td>\n      <td>0</td>\n      <td>0</td>\n      <td>vote leave:vote_leave:-1.2547500378858394;tory...</td>\n      <td>1 -1</td>\n      <td>lewis_goodall jo_penberthy shippersunbound</td>\n      <td>...</td>\n      <td>0</td>\n      <td>22</td>\n      <td>1</td>\n      <td>7</td>\n      <td>4.469231</td>\n      <td>1</td>\n      <td>0</td>\n      <td>0</td>\n      <td>0</td>\n      <td>0</td>\n    </tr>\n    <tr>\n      <th>4</th>\n      <td>1267216070739464192</td>\n      <td>9e83fa483d2860d8147f9765d125e40b</td>\n      <td>Sun May 31 22:07:09 +0000 2020</td>\n      <td>263</td>\n      <td>241</td>\n      <td>0</td>\n      <td>0</td>\n      <td>you re telling me:you%27re_telling_me%21:-1.79...</td>\n      <td>2 -3</td>\n      <td>null;</td>\n      <td>...</td>\n      <td>0</td>\n      <td>22</td>\n      <td>1</td>\n      <td>7</td>\n      <td>0.916350</td>\n      <td>1</td>\n      <td>0</td>\n      <td>0</td>\n      <td>0</td>\n      <td>0</td>\n    </tr>\n  </tbody>\n</table>\n<p>5 rows × 28 columns</p>\n</div>"
          },
          "metadata": {},
          "execution_count": 10
        }
      ],
      "source": [
        "from datetime import datetime\n",
        "\n",
        "dataset = dataset.dropna()\n",
        "\n",
        "dataset[\"Entities\"] = dataset[\"Entities\"].astype(str)\n",
        "dataset[\"Entities\"] = dataset[\"Entities\"].apply(lambda x: x.lower())\n",
        "dataset[\"Entities_List\"] = dataset[\"Entities\"].apply(entities_splitter)\n",
        "\n",
        "#Lewin\n",
        "sentiment = dataset[\"Sentiment\"].str.split(\" \", n = 1, expand = True) \n",
        "\n",
        "dataset[\"Positive_Sentiment\"] = sentiment.iloc[:,[0]]\n",
        "dataset[\"Negative_Sentiment\"] = sentiment.iloc[:,[1]]\n",
        "dataset[\"Positive_Sentiment\"] = dataset.Positive_Sentiment.astype(float)\n",
        "dataset[\"Negative_Sentiment\"] = dataset.Negative_Sentiment.astype(float)\n",
        "dataset[\"Overall Sentiment\"] = dataset[\"Positive_Sentiment\"] + dataset[\"Negative_Sentiment\"]\n",
        "\n",
        "dataset[\"Entity_count\"]=dataset[\"Entities\"].str.split(\";\").apply(lambda x: len([y for y in x if len(y)>0 and y!=\"null\"]))\n",
        "\n",
        "dataset[\"Hashtags_count\"]=dataset[\"Hashtags\"].str.split(\";\").apply(lambda x: len([y for y in x if len(y)>0 and y!=\"null\"]))\n",
        "\n",
        "dataset[\"Mentions_count\"]=dataset[\"Mentions\"].str.split(\";\").apply(lambda x: len([y for y in x if len(y)>0 and y!=\"null\"]))\n",
        "\n",
        "dataset[\"URLS_count\"]=dataset[\"URLS\"].str.split(\";\").apply(lambda x: len([y for y in x if len(y)>0 and y!=\"null\"]))\n",
        "\n",
        "#Chia\n",
        "dataset[\"time\"] = dataset.apply(lambda x:get_time(x), axis=1)\n",
        "dataset[\"weekend\"] = dataset.apply(lambda x:get_weekend(x), axis=1)\n",
        "dataset[\"day_of_week\"] = dataset.apply(lambda x:get_day_of_week(x), axis=1)\n",
        "dataset[\"friends_followers_ratio\"] = dataset.apply(lambda x:get_friends_followers_ratio(x), axis=1)\n",
        "\n",
        "number_tweets_per_users_dict = create_no_tweets_per_user_dict(dataset) #How many times the user appeared in the dataset\n",
        "dataset[\"number_of_tweets_per_user\"] = dataset.apply(lambda x:assign_number_of_tweets_to_user(x, number_tweets_per_users_dict), axis=1)\n",
        "\n",
        "urls_dict = create_urls_dict(dataset) #How many times the url appeared in the dataset\n",
        "dataset[\"URL_domain_popularity\"] = dataset.apply(lambda x: get_url_domain_popularity(x, urls_dict), axis=1)\n",
        "\n",
        "#Austin\n",
        "dataset = get_top_hashtags(dataset)\n",
        "dataset = get_top_entities(dataset)\n",
        "dataset = get_top_mentions(dataset)\n",
        "\n",
        "#James\n",
        "\n",
        "#Converting datetime\n",
        "#dataset[\"No. of top 20 Entities\"] = 0\n",
        "#top_20_entities_dict = compile_top_20_entities_for_each_day(dataset) \n",
        "\n",
        "#Clean Up - Removing unncesary columns\n",
        "dataset = dataset.drop([\"Entities_List\", \"entities_list\"], axis = 1)\n",
        "\n",
        "columns = list(dataset)\n",
        "print (columns)\n",
        "\n",
        "\n",
        "dataset.head()\n",
        "\n"
      ]
    },
    {
      "cell_type": "code",
      "execution_count": null,
      "metadata": {},
      "outputs": [],
      "source": []
    },
    {
      "cell_type": "code",
      "execution_count": null,
      "metadata": {},
      "outputs": [],
      "source": []
    },
    {
      "cell_type": "code",
      "execution_count": null,
      "metadata": {},
      "outputs": [],
      "source": []
    },
    {
      "cell_type": "code",
      "execution_count": null,
      "metadata": {},
      "outputs": [],
      "source": []
    },
    {
      "cell_type": "code",
      "metadata": {
        "colab": {
          "base_uri": "https://localhost:8080/",
          "height": 279
        },
        "id": "ROND1l_mbC7E",
        "outputId": "810ade7c-7aaa-4754-d142-ce860f5dc6ce"
      },
      "source": [
        "sns.scatterplot(x=\"Followers\",y='Retweets', data=dataset, palette=\"muted\");"
      ],
      "execution_count": null,
      "outputs": [
        {
          "output_type": "display_data",
          "data": {
            "image/png": "[encoded data removed]",
            "text/plain": [
              "<Figure size 432x288 with 1 Axes>"
            ]
          },
          "metadata": {
            "tags": [],
            "needs_background": "light"
          }
        }
      ]
    },
    {
      "cell_type": "code",
      "execution_count": null,
      "metadata": {},
      "outputs": [],
      "source": []
    },
    {
      "cell_type": "markdown",
      "metadata": {
        "id": "Uy3-FibReGJe"
      },
      "source": [
        "# Linear Regression with Sklearn"
      ]
    },
    {
      "cell_type": "code",
      "metadata": {
        "colab": {
          "base_uri": "https://localhost:8080/"
        },
        "id": "wMKhWtRFb44Z",
        "outputId": "39d5142c-105e-4793-ae54-ea919854f5c4"
      },
      "source": [
        "from sklearn.model_selection import train_test_split\n",
        "\n",
        "#Train test split\n",
        "x_train, x_test, y_train, y_test = train_test_split(followers, retweets, test_size=0.3, random_state=43)\n",
        "\n",
        "print(x_train.head(2))"
      ],
      "execution_count": null,
      "outputs": [
        {
          "output_type": "stream",
          "text": [
            "      Followers\n",
            "4980        119\n",
            "4154         57\n"
          ],
          "name": "stdout"
        }
      ]
    },
    {
      "cell_type": "code",
      "metadata": {
        "colab": {
          "base_uri": "https://localhost:8080/"
        },
        "id": "P4Gv9Kb4cTOm",
        "outputId": "f41c322b-3db6-472f-bca5-cd26bf052f5a"
      },
      "source": [
        "from sklearn import datasets, linear_model\n",
        "regr = linear_model.LinearRegression()\n",
        "regr.fit(x_train, y_train)"
      ],
      "execution_count": null,
      "outputs": [
        {
          "output_type": "execute_result",
          "data": {
            "text/plain": [
              "LinearRegression(copy_X=True, fit_intercept=True, n_jobs=None, normalize=False)"
            ]
          },
          "metadata": {
            "tags": []
          },
          "execution_count": 35
        }
      ]
    },
    {
      "cell_type": "code",
      "metadata": {
        "id": "F5VKRio8c33g"
      },
      "source": [
        "y_pred = regr.predict(x_test)"
      ],
      "execution_count": null,
      "outputs": []
    },
    {
      "cell_type": "code",
      "metadata": {
        "colab": {
          "base_uri": "https://localhost:8080/"
        },
        "id": "I9vF1OJcdrl6",
        "outputId": "c3c92e23-0114-429c-cccd-1b3e108c70d2"
      },
      "source": [
        "from sklearn.metrics import mean_squared_error, r2_score\n",
        "\n",
        "# The coefficients\n",
        "print('Coefficients: \\n', regr.coef_)\n",
        "# The mean squared error\n",
        "print('Mean squared error: %.2f'\n",
        "      % mean_squared_error(y_test, y_pred))\n"
      ],
      "execution_count": null,
      "outputs": [
        {
          "output_type": "stream",
          "text": [
            "Coefficients: \n",
            " [[9.09415662e-06]]\n",
            "Mean squared error: 74563.00\n"
          ],
          "name": "stdout"
        }
      ]
    },
    {
      "cell_type": "markdown",
      "metadata": {
        "id": "HuCwhCfEehyk"
      },
      "source": [
        "# Random Forest Regressor"
      ]
    },
    {
      "cell_type": "code",
      "metadata": {
        "id": "YyYF0kcAekmi"
      },
      "source": [
        "from sklearn.ensemble import RandomForestRegressor\n",
        "from sklearn.datasets import make_regression\n",
        "\n",
        "regr_forest = RandomForestRegressor(max_depth=2, random_state=43)\n",
        "regr_forest.fit(x_train, np.ravel(y_train))\n",
        "\n",
        "y_pred = regr_forest.predict(x_test)"
      ],
      "execution_count": null,
      "outputs": []
    },
    {
      "cell_type": "code",
      "metadata": {
        "colab": {
          "base_uri": "https://localhost:8080/"
        },
        "id": "4hwr9VNDfKpA",
        "outputId": "585cb230-0246-4052-fc24-6b6bfa7a6121"
      },
      "source": [
        "from sklearn.metrics import mean_squared_error\n",
        "\n",
        "# The mean squared error\n",
        "print('Mean squared error: %.2f'\n",
        "      % mean_squared_error(y_test, y_pred))"
      ],
      "execution_count": null,
      "outputs": [
        {
          "output_type": "stream",
          "text": [
            "Mean squared error: 72979.00\n"
          ],
          "name": "stdout"
        }
      ]
    },
    {
      "cell_type": "markdown",
      "metadata": {
        "id": "jmy_Jx_xf0DK"
      },
      "source": [
        "# Test Neural Network (Keras)"
      ]
    },
    {
      "cell_type": "code",
      "metadata": {
        "id": "S99CJT0Kf2oV"
      },
      "source": [
        "import pandas\n",
        "from keras.models import Sequential\n",
        "from keras.layers import Dense\n",
        "from keras.wrappers.scikit_learn import KerasRegressor\n",
        "from sklearn.model_selection import cross_val_score\n",
        "from sklearn.model_selection import KFold\n",
        "from sklearn.preprocessing import StandardScaler\n",
        "from sklearn.pipeline import Pipeline\n",
        "from sklearn.model_selection import train_test_split"
      ],
      "execution_count": null,
      "outputs": []
    },
    {
      "cell_type": "code",
      "metadata": {
        "id": "FpYdsfXDgTKt"
      },
      "source": [
        "followers = dataset.loc[:,['Followers','Friends',\"Positive Sentiment\",\"Negative Sentiment\"]]\n",
        "retweets = dataset.loc[:,['Retweets']]\n",
        "followers.head()\n",
        "\n",
        "#Train test split\n",
        "x_train, x_test, y_train, y_test = train_test_split(followers, retweets, test_size=0.3, random_state=43)\n",
        "\n",
        "x_train = np.asarray(x_train).astype(np.float32)\n",
        "x_test = np.asarray(x_test).astype(np.float32)"
      ],
      "execution_count": null,
      "outputs": []
    },
    {
      "cell_type": "code",
      "metadata": {
        "colab": {
          "base_uri": "https://localhost:8080/"
        },
        "id": "Gaw4CAJSghSO",
        "outputId": "48073f3a-2f98-4bfe-ba80-3c1e3cb5cc2d"
      },
      "source": [
        "def baseline_model():\n",
        "\n",
        "  model = Sequential()\n",
        "  model.add(Dense(6, input_dim=4, kernel_initializer='normal',activation='relu'))\n",
        "  model.add(Dense(3, kernel_initializer='normal',activation='relu'))\n",
        "  model.add(Dense(1, kernel_initializer='normal'))\n",
        "  model.compile(loss='mean_squared_logarithmic_error',optimizer='adam')\n",
        "  return model\n",
        "\n",
        "\n",
        "model = baseline_model()\n",
        "print(model.summary())"
      ],
      "execution_count": null,
      "outputs": [
        {
          "output_type": "stream",
          "text": [
            "Model: \"sequential_13\"\n",
            "_________________________________________________________________\n",
            "Layer (type)                 Output Shape              Param #   \n",
            "=================================================================\n",
            "dense_39 (Dense)             (None, 6)                 30        \n",
            "_________________________________________________________________\n",
            "dense_40 (Dense)             (None, 3)                 21        \n",
            "_________________________________________________________________\n",
            "dense_41 (Dense)             (None, 1)                 4         \n",
            "=================================================================\n",
            "Total params: 55\n",
            "Trainable params: 55\n",
            "Non-trainable params: 0\n",
            "_________________________________________________________________\n",
            "None\n"
          ],
          "name": "stdout"
        }
      ]
    },
    {
      "cell_type": "code",
      "metadata": {
        "colab": {
          "base_uri": "https://localhost:8080/"
        },
        "id": "HEelzOEthz1R",
        "outputId": "48205fba-84e1-4780-94ff-f3e7086547ba"
      },
      "source": [
        "estimator = KerasRegressor(build_fn=baseline_model, epochs=5, verbose=0)\n",
        "kfold = KFold(n_splits=10)\n",
        "results = cross_val_score(estimator, x_train, y_train, cv=kfold)\n",
        "print(\"Baseline: %.2f (%.2f) MSE\" % (results.mean(), results.std()))\n",
        "\n",
        "#The mean squared error is negative because scikit-learn inverts so that the metric is maximized instead of minimized. You can ignore the sign of the result."
      ],
      "execution_count": null,
      "outputs": [
        {
          "output_type": "stream",
          "text": [
            "Baseline: -3.11 (1.13) MSE\n"
          ],
          "name": "stdout"
        }
      ]
    },
    {
      "cell_type": "code",
      "metadata": {
        "colab": {
          "base_uri": "https://localhost:8080/"
        },
        "id": "SU8tlUcOkhkk",
        "outputId": "a9885050-efcf-4dba-a118-a3fd50884cec"
      },
      "source": [
        "hist = model.fit(x_train, y_train, epochs=10)"
      ],
      "execution_count": null,
      "outputs": [
        {
          "output_type": "stream",
          "text": [
            "Epoch 1/10\n",
            "110/110 [==============================] - 15s 2ms/step - loss: 2.5128\n",
            "Epoch 2/10\n",
            "110/110 [==============================] - 0s 2ms/step - loss: 2.3777\n",
            "Epoch 3/10\n",
            "110/110 [==============================] - 0s 2ms/step - loss: 2.3341\n",
            "Epoch 4/10\n",
            "110/110 [==============================] - 0s 2ms/step - loss: 2.3174\n",
            "Epoch 5/10\n",
            "110/110 [==============================] - 0s 2ms/step - loss: 2.1190\n",
            "Epoch 6/10\n",
            "110/110 [==============================] - 0s 2ms/step - loss: 2.3026\n",
            "Epoch 7/10\n",
            "110/110 [==============================] - 0s 2ms/step - loss: 2.1884\n",
            "Epoch 8/10\n",
            "110/110 [==============================] - 0s 2ms/step - loss: 2.1044\n",
            "Epoch 9/10\n",
            "110/110 [==============================] - 0s 2ms/step - loss: 2.1430\n",
            "Epoch 10/10\n",
            "110/110 [==============================] - 0s 2ms/step - loss: 2.0132\n"
          ],
          "name": "stdout"
        }
      ]
    },
    {
      "cell_type": "code",
      "metadata": {
        "colab": {
          "base_uri": "https://localhost:8080/"
        },
        "id": "qiwO8J9zlk7n",
        "outputId": "844a39ad-bef0-48d8-f68a-1e2152cffb91"
      },
      "source": [
        "test_loss = model.evaluate(x=x_test, y=y_test)\n",
        "print('Test loss:', test_loss)\n",
        "\n"
      ],
      "execution_count": null,
      "outputs": [
        {
          "output_type": "stream",
          "text": [
            "47/47 [==============================] - 1s 2ms/step - loss: 2.2035\n",
            "Test loss: 2.2034730911254883\n"
          ],
          "name": "stdout"
        }
      ]
    },
    {
      "cell_type": "code",
      "metadata": {
        "colab": {
          "base_uri": "https://localhost:8080/"
        },
        "id": "J6PoDdKL5PAg",
        "outputId": "fba42ad3-1fb3-437d-f1bc-6d6e34ac788c"
      },
      "source": [
        "model(np.array([[267500, 719, 1, 4]]))\n",
        "#model.save(\"my_h5_model.h5\")\n",
        "#Issue was model does not reflect large numbers so plan to group similar users together"
      ],
      "execution_count": null,
      "outputs": [
        {
          "output_type": "execute_result",
          "data": {
            "text/plain": [
              "<tf.Tensor: shape=(1, 1), dtype=float32, numpy=array([[39.300026]], dtype=float32)>"
            ]
          },
          "metadata": {
            "tags": []
          },
          "execution_count": 60
        }
      ]
    },
    {
      "cell_type": "markdown",
      "metadata": {
        "id": "RAgp5tUzoLkp"
      },
      "source": [
        "# Personalised models?"
      ]
    },
    {
      "cell_type": "code",
      "metadata": {
        "colab": {
          "base_uri": "https://localhost:8080/"
        },
        "id": "isXLqIIU-0RI",
        "outputId": "760e9f2d-8234-4497-c43e-d8edaa398b79"
      },
      "source": [
        "#pd.set_option('display.max_rows', 5000)\n",
        "#pd.set_option('display.max_columns', 12)\n",
        "#pd.reset_option('all')\n",
        "testing = dataset.groupby('Username').nunique()\n",
        "print(dataset.shape)\n"
      ],
      "execution_count": null,
      "outputs": [
        {
          "output_type": "stream",
          "text": [
            "(5000, 12)\n"
          ],
          "name": "stdout"
        }
      ]
    },
    {
      "cell_type": "code",
      "metadata": {
        "colab": {
          "base_uri": "https://localhost:8080/",
          "height": 366
        },
        "id": "zeVHtwOvAASZ",
        "outputId": "b8c52a5b-0e70-4423-dcfb-47b667d8aa7f"
      },
      "source": [
        "print(testing)\n",
        "testing[testing['Followers']==testing['Followers'].max()]"
      ],
      "execution_count": null,
      "outputs": [
        {
          "output_type": "stream",
          "text": [
            "                                  Tweet Id  Timestamp  ...  Hashtags  URLS\n",
            "Username                                               ...                \n",
            "0013aaa4da0461c58d0b1306af75af02         1          1  ...         1     1\n",
            "001c3d759412a4af2b173b4965b3f35f         1          1  ...         1     1\n",
            "00356c574c303a0056734a576658f8ac         1          1  ...         1     1\n",
            "00512b6d56af78834ae96d5bd780c1b1         1          1  ...         1     1\n",
            "0055252f0fcc4824e2736f95b26a9ee9         1          1  ...         1     1\n",
            "...                                    ...        ...  ...       ...   ...\n",
            "ffaa68c5bfb5421de7348c043aa2cefe         1          1  ...         1     1\n",
            "ffb082db27a247035aa7f5dfc39e6a4e         1          1  ...         1     1\n",
            "ffdef53692f887e93e47b1b97def2cb3         1          1  ...         1     1\n",
            "ffe3404cfcbb614633762d2b31d789fc         1          1  ...         1     1\n",
            "ffed95140bd13f7f37293dd37ecd3c63         1          1  ...         1     1\n",
            "\n",
            "[4870 rows x 11 columns]\n"
          ],
          "name": "stdout"
        },
        {
          "output_type": "execute_result",
          "data": {
            "text/html": [
              "<div>\n",
              "<style scoped>\n",
              "    .dataframe tbody tr th:only-of-type {\n",
              "        vertical-align: middle;\n",
              "    }\n",
              "\n",
              "    .dataframe tbody tr th {\n",
              "        vertical-align: top;\n",
              "    }\n",
              "\n",
              "    .dataframe thead th {\n",
              "        text-align: right;\n",
              "    }\n",
              "</style>\n",
              "<table border=\"1\" class=\"dataframe\">\n",
              "  <thead>\n",
              "    <tr style=\"text-align: right;\">\n",
              "      <th></th>\n",
              "      <th>Tweet Id</th>\n",
              "      <th>Timestamp</th>\n",
              "      <th>Followers</th>\n",
              "      <th>Friends</th>\n",
              "      <th>Retweets</th>\n",
              "      <th>Favourites</th>\n",
              "      <th>Entities</th>\n",
              "      <th>Sentiment</th>\n",
              "      <th>Mentions</th>\n",
              "      <th>Hashtags</th>\n",
              "      <th>URLS</th>\n",
              "    </tr>\n",
              "    <tr>\n",
              "      <th>Username</th>\n",
              "      <th></th>\n",
              "      <th></th>\n",
              "      <th></th>\n",
              "      <th></th>\n",
              "      <th></th>\n",
              "      <th></th>\n",
              "      <th></th>\n",
              "      <th></th>\n",
              "      <th></th>\n",
              "      <th></th>\n",
              "      <th></th>\n",
              "    </tr>\n",
              "  </thead>\n",
              "  <tbody>\n",
              "    <tr>\n",
              "      <th>2435a45b85628172c5a47122144a7c67</th>\n",
              "      <td>8</td>\n",
              "      <td>8</td>\n",
              "      <td>8</td>\n",
              "      <td>1</td>\n",
              "      <td>7</td>\n",
              "      <td>7</td>\n",
              "      <td>8</td>\n",
              "      <td>5</td>\n",
              "      <td>1</td>\n",
              "      <td>1</td>\n",
              "      <td>8</td>\n",
              "    </tr>\n",
              "  </tbody>\n",
              "</table>\n",
              "</div>"
            ],
            "text/plain": [
              "                                  Tweet Id  Timestamp  ...  Hashtags  URLS\n",
              "Username                                               ...                \n",
              "2435a45b85628172c5a47122144a7c67         8          8  ...         1     8\n",
              "\n",
              "[1 rows x 11 columns]"
            ]
          },
          "metadata": {
            "tags": []
          },
          "execution_count": 86
        }
      ]
    },
    {
      "cell_type": "markdown",
      "metadata": {
        "id": "dAS03fAW15TH"
      },
      "source": [
        "# BERT (Only using a single feature, have yet to combine BERT embeddings with other features in the Neural Network)"
      ]
    },
    {
      "cell_type": "code",
      "metadata": {
        "id": "JyX18MLq1_en",
        "colab": {
          "base_uri": "https://localhost:8080/"
        },
        "outputId": "18c0f734-ffce-461b-cfed-b0b6eef7eefb"
      },
      "source": [
        "pip install -q -U tensorflow-text"
      ],
      "execution_count": null,
      "outputs": [
        {
          "output_type": "stream",
          "text": [
            "\u001b[K     |████████████████████████████████| 4.3MB 4.3MB/s \n",
            "\u001b[?25h"
          ],
          "name": "stdout"
        }
      ]
    },
    {
      "cell_type": "code",
      "metadata": {
        "id": "2HUA2ugJ8TCK",
        "colab": {
          "base_uri": "https://localhost:8080/"
        },
        "outputId": "83e35fe7-1793-4e54-8c34-8ba98a9a6559"
      },
      "source": [
        "pip install -q tf-models-official"
      ],
      "execution_count": null,
      "outputs": [
        {
          "output_type": "stream",
          "text": [
            "\u001b[K     |████████████████████████████████| 1.6MB 4.3MB/s \n",
            "\u001b[K     |████████████████████████████████| 358kB 17.7MB/s \n",
            "\u001b[K     |████████████████████████████████| 61kB 7.6MB/s \n",
            "\u001b[K     |████████████████████████████████| 686kB 18.9MB/s \n",
            "\u001b[K     |████████████████████████████████| 215kB 24.9MB/s \n",
            "\u001b[K     |████████████████████████████████| 102kB 9.8MB/s \n",
            "\u001b[K     |████████████████████████████████| 645kB 26.0MB/s \n",
            "\u001b[K     |████████████████████████████████| 1.2MB 30.9MB/s \n",
            "\u001b[K     |████████████████████████████████| 51kB 6.5MB/s \n",
            "\u001b[K     |████████████████████████████████| 37.2MB 79kB/s \n",
            "\u001b[?25h  Building wheel for py-cpuinfo (setup.py) ... \u001b[?25l\u001b[?25hdone\n",
            "  Building wheel for seqeval (setup.py) ... \u001b[?25l\u001b[?25hdone\n"
          ],
          "name": "stdout"
        }
      ]
    },
    {
      "cell_type": "code",
      "metadata": {
        "colab": {
          "base_uri": "https://localhost:8080/"
        },
        "id": "yv3ZncFH-mpL",
        "outputId": "984cedda-7a8c-4220-bb39-23d0f75f6ba2"
      },
      "source": [
        "pip install transformers"
      ],
      "execution_count": null,
      "outputs": [
        {
          "output_type": "stream",
          "text": [
            "Collecting transformers\n",
            "\u001b[?25l  Downloading https://files.pythonhosted.org/packages/fd/1a/41c644c963249fd7f3836d926afa1e3f1cc234a1c40d80c5f03ad8f6f1b2/transformers-4.8.2-py3-none-any.whl (2.5MB)\n",
            "\u001b[K     |████████████████████████████████| 2.5MB 4.3MB/s \n",
            "\u001b[?25hCollecting tokenizers<0.11,>=0.10.1\n",
            "\u001b[?25l  Downloading https://files.pythonhosted.org/packages/d4/e2/df3543e8ffdab68f5acc73f613de9c2b155ac47f162e725dcac87c521c11/tokenizers-0.10.3-cp37-cp37m-manylinux_2_5_x86_64.manylinux1_x86_64.manylinux_2_12_x86_64.manylinux2010_x86_64.whl (3.3MB)\n",
            "\u001b[K     |████████████████████████████████| 3.3MB 33.8MB/s \n",
            "\u001b[?25hRequirement already satisfied: regex!=2019.12.17 in /usr/local/lib/python3.7/dist-packages (from transformers) (2019.12.20)\n",
            "Requirement already satisfied: importlib-metadata; python_version < \"3.8\" in /usr/local/lib/python3.7/dist-packages (from transformers) (4.6.0)\n",
            "Collecting huggingface-hub==0.0.12\n",
            "  Downloading https://files.pythonhosted.org/packages/2f/ee/97e253668fda9b17e968b3f97b2f8e53aa0127e8807d24a547687423fe0b/huggingface_hub-0.0.12-py3-none-any.whl\n",
            "Requirement already satisfied: pyyaml in /usr/local/lib/python3.7/dist-packages (from transformers) (5.4.1)\n",
            "Collecting sacremoses\n",
            "\u001b[?25l  Downloading https://files.pythonhosted.org/packages/75/ee/67241dc87f266093c533a2d4d3d69438e57d7a90abb216fa076e7d475d4a/sacremoses-0.0.45-py3-none-any.whl (895kB)\n",
            "\u001b[K     |████████████████████████████████| 901kB 38.7MB/s \n",
            "\u001b[?25hRequirement already satisfied: packaging in /usr/local/lib/python3.7/dist-packages (from transformers) (20.9)\n",
            "Requirement already satisfied: tqdm>=4.27 in /usr/local/lib/python3.7/dist-packages (from transformers) (4.41.1)\n",
            "Requirement already satisfied: numpy>=1.17 in /usr/local/lib/python3.7/dist-packages (from transformers) (1.19.5)\n",
            "Requirement already satisfied: requests in /usr/local/lib/python3.7/dist-packages (from transformers) (2.23.0)\n",
            "Requirement already satisfied: filelock in /usr/local/lib/python3.7/dist-packages (from transformers) (3.0.12)\n",
            "Requirement already satisfied: typing-extensions>=3.6.4; python_version < \"3.8\" in /usr/local/lib/python3.7/dist-packages (from importlib-metadata; python_version < \"3.8\"->transformers) (3.7.4.3)\n",
            "Requirement already satisfied: zipp>=0.5 in /usr/local/lib/python3.7/dist-packages (from importlib-metadata; python_version < \"3.8\"->transformers) (3.4.1)\n",
            "Requirement already satisfied: six in /usr/local/lib/python3.7/dist-packages (from sacremoses->transformers) (1.15.0)\n",
            "Requirement already satisfied: joblib in /usr/local/lib/python3.7/dist-packages (from sacremoses->transformers) (1.0.1)\n",
            "Requirement already satisfied: click in /usr/local/lib/python3.7/dist-packages (from sacremoses->transformers) (7.1.2)\n",
            "Requirement already satisfied: pyparsing>=2.0.2 in /usr/local/lib/python3.7/dist-packages (from packaging->transformers) (2.4.7)\n",
            "Requirement already satisfied: certifi>=2017.4.17 in /usr/local/lib/python3.7/dist-packages (from requests->transformers) (2021.5.30)\n",
            "Requirement already satisfied: chardet<4,>=3.0.2 in /usr/local/lib/python3.7/dist-packages (from requests->transformers) (3.0.4)\n",
            "Requirement already satisfied: urllib3!=1.25.0,!=1.25.1,<1.26,>=1.21.1 in /usr/local/lib/python3.7/dist-packages (from requests->transformers) (1.24.3)\n",
            "Requirement already satisfied: idna<3,>=2.5 in /usr/local/lib/python3.7/dist-packages (from requests->transformers) (2.10)\n",
            "Installing collected packages: tokenizers, huggingface-hub, sacremoses, transformers\n",
            "Successfully installed huggingface-hub-0.0.12 sacremoses-0.0.45 tokenizers-0.10.3 transformers-4.8.2\n"
          ],
          "name": "stdout"
        }
      ]
    },
    {
      "cell_type": "markdown",
      "metadata": {
        "id": "Vo5_jb74C7yU"
      },
      "source": [
        "Import Relevant Libraries"
      ]
    },
    {
      "cell_type": "code",
      "metadata": {
        "colab": {
          "base_uri": "https://localhost:8080/"
        },
        "id": "RgKPdY0d4oQY",
        "outputId": "2c80681a-fef3-4d23-f6d2-68c6b58fbc6b"
      },
      "source": [
        "import os\n",
        "import shutil\n",
        "\n",
        "import tensorflow as tf\n",
        "import tensorflow_hub as hub\n",
        "import tensorflow_text as text\n",
        "\n",
        "import matplotlib.pyplot as plt\n",
        "from official.nlp import optimization\n",
        "\n",
        "#Need to upload dataset to own Gdrive first\n",
        "%cd /content/drive/MyDrive/COVID19/\n",
        "\n",
        "import torch\n",
        "import numpy as np\n",
        "from tqdm import tqdm\n",
        "import pandas as pd\n",
        "import torch.utils.data as data_utils\n"
      ],
      "execution_count": null,
      "outputs": [
        {
          "output_type": "stream",
          "text": [
            "/content/drive/MyDrive/COVID19\n"
          ],
          "name": "stdout"
        }
      ]
    },
    {
      "cell_type": "markdown",
      "metadata": {
        "id": "i1w6YVdEC-7R"
      },
      "source": [
        "Load Dataset"
      ]
    },
    {
      "cell_type": "code",
      "metadata": {
        "id": "r5WmxwHV-rhy"
      },
      "source": [
        "#Load dataset & reduce size for fast training (Only to familarise myself with pytorch)\n",
        "dataset = pd.read_csv('TweetsCOV19_052020.tsv', sep='\\t',header=None)\n",
        "dataset = dataset.iloc[:100]\n",
        "dataset.columns = ['Tweet Id', 'Username','Timestamp','Followers','Friends','Retweets','Favourites','Entities','Sentiment','Mentions','Hashtags','URLS']\n",
        "retweets = dataset.loc[:,['Retweets']]\n",
        "#dataset.head()"
      ],
      "execution_count": null,
      "outputs": []
    },
    {
      "cell_type": "markdown",
      "metadata": {
        "id": "uzWZIUZZDDGD"
      },
      "source": [
        "Create New Column for 'Sentences' (Very preliminary)"
      ]
    },
    {
      "cell_type": "code",
      "metadata": {
        "colab": {
          "base_uri": "https://localhost:8080/",
          "height": 643
        },
        "id": "VnDoJxKZ_Qvf",
        "outputId": "75868d5d-f8dc-4fc7-a305-b53f6483c715"
      },
      "source": [
        "entities = dataset[\"Entities\"].str.split(\":\",n=1,expand=True)\n",
        "dataset[\"BERT_Test\"] = entities.iloc[:,[0]]\n",
        "dataset.head(7)"
      ],
      "execution_count": null,
      "outputs": [
        {
          "output_type": "execute_result",
          "data": {
            "text/html": [
              "<div>\n",
              "<style scoped>\n",
              "    .dataframe tbody tr th:only-of-type {\n",
              "        vertical-align: middle;\n",
              "    }\n",
              "\n",
              "    .dataframe tbody tr th {\n",
              "        vertical-align: top;\n",
              "    }\n",
              "\n",
              "    .dataframe thead th {\n",
              "        text-align: right;\n",
              "    }\n",
              "</style>\n",
              "<table border=\"1\" class=\"dataframe\">\n",
              "  <thead>\n",
              "    <tr style=\"text-align: right;\">\n",
              "      <th></th>\n",
              "      <th>Tweet Id</th>\n",
              "      <th>Username</th>\n",
              "      <th>Timestamp</th>\n",
              "      <th>Followers</th>\n",
              "      <th>Friends</th>\n",
              "      <th>Retweets</th>\n",
              "      <th>Favourites</th>\n",
              "      <th>Entities</th>\n",
              "      <th>Sentiment</th>\n",
              "      <th>Mentions</th>\n",
              "      <th>Hashtags</th>\n",
              "      <th>URLS</th>\n",
              "      <th>BERT_Test</th>\n",
              "    </tr>\n",
              "  </thead>\n",
              "  <tbody>\n",
              "    <tr>\n",
              "      <th>0</th>\n",
              "      <td>1255980348229529601</td>\n",
              "      <td>fa5fd446e778da0acba3504aeab23da5</td>\n",
              "      <td>Thu Apr 30 22:00:24 +0000 2020</td>\n",
              "      <td>29697</td>\n",
              "      <td>24040</td>\n",
              "      <td>0</td>\n",
              "      <td>0</td>\n",
              "      <td>null;</td>\n",
              "      <td>1 -1</td>\n",
              "      <td>null;</td>\n",
              "      <td>Opinion Next2blowafrica thoughts</td>\n",
              "      <td>null;</td>\n",
              "      <td>null;</td>\n",
              "    </tr>\n",
              "    <tr>\n",
              "      <th>1</th>\n",
              "      <td>1255981220640546816</td>\n",
              "      <td>547501e9cc84b8148ae1b8bde04157a4</td>\n",
              "      <td>Thu Apr 30 22:03:52 +0000 2020</td>\n",
              "      <td>799</td>\n",
              "      <td>1278</td>\n",
              "      <td>4</td>\n",
              "      <td>6</td>\n",
              "      <td>null;</td>\n",
              "      <td>1 -1</td>\n",
              "      <td>null;</td>\n",
              "      <td>null;</td>\n",
              "      <td>null;</td>\n",
              "      <td>null;</td>\n",
              "    </tr>\n",
              "    <tr>\n",
              "      <th>2</th>\n",
              "      <td>1255981244560683008</td>\n",
              "      <td>840ac60dab55f6b212dc02dcbe5dfbd6</td>\n",
              "      <td>Thu Apr 30 22:03:58 +0000 2020</td>\n",
              "      <td>586</td>\n",
              "      <td>378</td>\n",
              "      <td>1</td>\n",
              "      <td>2</td>\n",
              "      <td>null;</td>\n",
              "      <td>2 -1</td>\n",
              "      <td>null;</td>\n",
              "      <td>null;</td>\n",
              "      <td>https://www.bbc.com/news/uk-england-beds-bucks...</td>\n",
              "      <td>null;</td>\n",
              "    </tr>\n",
              "    <tr>\n",
              "      <th>3</th>\n",
              "      <td>1255981472285986816</td>\n",
              "      <td>37c68a001198b5efd4a21e2b68a0c9bc</td>\n",
              "      <td>Thu Apr 30 22:04:52 +0000 2020</td>\n",
              "      <td>237</td>\n",
              "      <td>168</td>\n",
              "      <td>0</td>\n",
              "      <td>0</td>\n",
              "      <td>null;</td>\n",
              "      <td>1 -1</td>\n",
              "      <td>null;</td>\n",
              "      <td>null;</td>\n",
              "      <td>https://lockdownsceptics.org/2020/04/30/latest...</td>\n",
              "      <td>null;</td>\n",
              "    </tr>\n",
              "    <tr>\n",
              "      <th>4</th>\n",
              "      <td>1255981581354905600</td>\n",
              "      <td>8c3620bdfb9d2a1acfdf2412c9b34e06</td>\n",
              "      <td>Thu Apr 30 22:05:18 +0000 2020</td>\n",
              "      <td>423</td>\n",
              "      <td>427</td>\n",
              "      <td>0</td>\n",
              "      <td>0</td>\n",
              "      <td>i hate u:I_Hate_U:-1.8786140035817729;quaranti...</td>\n",
              "      <td>1 -4</td>\n",
              "      <td>null;</td>\n",
              "      <td>null;</td>\n",
              "      <td>null;</td>\n",
              "      <td>i hate u</td>\n",
              "    </tr>\n",
              "    <tr>\n",
              "      <th>5</th>\n",
              "      <td>1255982235662024704</td>\n",
              "      <td>491a98bbc105806cb67f46f5e3f3d888</td>\n",
              "      <td>Thu Apr 30 22:07:54 +0000 2020</td>\n",
              "      <td>52</td>\n",
              "      <td>46</td>\n",
              "      <td>0</td>\n",
              "      <td>0</td>\n",
              "      <td>god forbid:God_Forbid:-1.2640735877261988;covi...</td>\n",
              "      <td>2 -4</td>\n",
              "      <td>Danartman BishopStika</td>\n",
              "      <td>null;</td>\n",
              "      <td>https://www.dailymail.co.uk/health/article-826...</td>\n",
              "      <td>god forbid</td>\n",
              "    </tr>\n",
              "    <tr>\n",
              "      <th>6</th>\n",
              "      <td>1255982852371554304</td>\n",
              "      <td>916dec763c84916c929bb257ff96187d</td>\n",
              "      <td>Thu Apr 30 22:10:21 +0000 2020</td>\n",
              "      <td>70185</td>\n",
              "      <td>10625</td>\n",
              "      <td>213</td>\n",
              "      <td>926</td>\n",
              "      <td>beijing:Beijing:-1.4222174822860647;covid 19:C...</td>\n",
              "      <td>1 -4</td>\n",
              "      <td>null;</td>\n",
              "      <td>null;</td>\n",
              "      <td>https://canoe.com/news/world/u-s-mulling-poten...</td>\n",
              "      <td>beijing</td>\n",
              "    </tr>\n",
              "  </tbody>\n",
              "</table>\n",
              "</div>"
            ],
            "text/plain": [
              "              Tweet Id  ...   BERT_Test\n",
              "0  1255980348229529601  ...       null;\n",
              "1  1255981220640546816  ...       null;\n",
              "2  1255981244560683008  ...       null;\n",
              "3  1255981472285986816  ...       null;\n",
              "4  1255981581354905600  ...    i hate u\n",
              "5  1255982235662024704  ...  god forbid\n",
              "6  1255982852371554304  ...     beijing\n",
              "\n",
              "[7 rows x 13 columns]"
            ]
          },
          "metadata": {
            "tags": []
          },
          "execution_count": 5
        }
      ]
    },
    {
      "cell_type": "markdown",
      "metadata": {
        "id": "FH8a1tSNDAf7"
      },
      "source": [
        "Clean data"
      ]
    },
    {
      "cell_type": "code",
      "metadata": {
        "id": "n2vAVVjoAxYl"
      },
      "source": [
        "import re\n",
        "\n",
        "#Define function for removing special characters\n",
        "def remove_special_characters(text, remove_digits=True):\n",
        "    pattern=r'[^a-zA-z0-9\\s]'\n",
        "    text=re.sub(pattern,'',text)\n",
        "    return text.lower()\n",
        "\n",
        "#Apply function on BERT_Test column\n",
        "#Issue with 'NULL'\n",
        "dataset['BERT_Test']=dataset['BERT_Test'].apply(remove_special_characters)\n",
        "dataset.head(7)\n",
        "\n",
        "bert_inputs = dataset.loc[:,['BERT_Test']]\n"
      ],
      "execution_count": null,
      "outputs": []
    },
    {
      "cell_type": "markdown",
      "metadata": {
        "id": "ttu8_nWTEAn3"
      },
      "source": [
        "Split Data"
      ]
    },
    {
      "cell_type": "code",
      "metadata": {
        "colab": {
          "base_uri": "https://localhost:8080/",
          "height": 204
        },
        "id": "x9vXkO9EBRqS",
        "outputId": "5b4e2928-ac77-4f28-cd6a-e5bac603e607"
      },
      "source": [
        "from sklearn.model_selection import train_test_split\n",
        "x_train, x_test, y_train, y_test = train_test_split(bert_inputs, retweets, test_size=0.3, random_state=43)\n",
        "x_train.head()"
      ],
      "execution_count": null,
      "outputs": [
        {
          "output_type": "execute_result",
          "data": {
            "text/html": [
              "<div>\n",
              "<style scoped>\n",
              "    .dataframe tbody tr th:only-of-type {\n",
              "        vertical-align: middle;\n",
              "    }\n",
              "\n",
              "    .dataframe tbody tr th {\n",
              "        vertical-align: top;\n",
              "    }\n",
              "\n",
              "    .dataframe thead th {\n",
              "        text-align: right;\n",
              "    }\n",
              "</style>\n",
              "<table border=\"1\" class=\"dataframe\">\n",
              "  <thead>\n",
              "    <tr style=\"text-align: right;\">\n",
              "      <th></th>\n",
              "      <th>BERT_Test</th>\n",
              "    </tr>\n",
              "  </thead>\n",
              "  <tbody>\n",
              "    <tr>\n",
              "      <th>8</th>\n",
              "      <td>stealth</td>\n",
              "    </tr>\n",
              "    <tr>\n",
              "      <th>33</th>\n",
              "      <td>null</td>\n",
              "    </tr>\n",
              "    <tr>\n",
              "      <th>45</th>\n",
              "      <td>null</td>\n",
              "    </tr>\n",
              "    <tr>\n",
              "      <th>19</th>\n",
              "      <td>wicked</td>\n",
              "    </tr>\n",
              "    <tr>\n",
              "      <th>14</th>\n",
              "      <td>leukemia</td>\n",
              "    </tr>\n",
              "  </tbody>\n",
              "</table>\n",
              "</div>"
            ],
            "text/plain": [
              "   BERT_Test\n",
              "8    stealth\n",
              "33      null\n",
              "45      null\n",
              "19    wicked\n",
              "14  leukemia"
            ]
          },
          "metadata": {
            "tags": []
          },
          "execution_count": 8
        }
      ]
    },
    {
      "cell_type": "code",
      "metadata": {
        "id": "iIF9GbIb-WMh"
      },
      "source": [
        "import transformers\n",
        "import numpy as np\n",
        "from transformers import BertModel, BertTokenizer, BertConfig, AdamW, get_linear_schedule_with_warmup\n",
        "from sklearn.model_selection import train_test_split\n",
        "import torch\n",
        "\n",
        "\n",
        "def BERTEmbedding(batch):\n",
        "    PRE_TRAINED_MODEL_NAME = 'bert-base-uncased'\n",
        "    # Initializing a BERT bert-base-uncased style configuration\n",
        "    configuration = BertConfig(vocab_size = 500)\n",
        "    # Initializing a model from the bert-base-uncased style configuration\n",
        "    model = BertModel.from_pretrained(PRE_TRAINED_MODEL_NAME, return_dict =True)\n",
        "    tokenizer = BertTokenizer.from_pretrained(PRE_TRAINED_MODEL_NAME)\n",
        "    \n",
        "    \n",
        "    maxlen = 120 # 42\n",
        "    outputs = []\n",
        "    for index, row in batch.items():\n",
        "        tokenized = tokenizer(row, padding ='max_length', max_length = maxlen, return_tensors = \"pt\")\n",
        "        output_last_state = model(**tokenized)\n",
        "        output_last_state = output_last_state.last_hidden_state\n",
        "        output = output_last_state.detach().numpy()\n",
        "        outputs.append(output[0])\n",
        "    outputs = np.array(outputs)\n",
        "    print(outputs.shape)\n",
        "    return outputs\n",
        "#    tokenized = tokenizer(X_train['utterance'].tolist(), padding ='max_length', max_length = maxlen, return_tensors = \"pt\")\n",
        "#    tokenized = tokenizer('hello world', padding ='max_length', max_length = maxlen, return_tensors = \"pt\")\n",
        "#   print(tokenized)\n",
        "\n",
        "    # outputs = model(**tokenized)\n",
        "    # print(outputs.last_hidden_state)\n",
        "    # bert_train = X_train[\"utterance\"].apply(lambda x: tokenizer(x, padding ='max_length', max_length = maxlen, add_special_tokens=False)['input_ids'])\n",
        "    # print(bert_train)"
      ],
      "execution_count": null,
      "outputs": []
    },
    {
      "cell_type": "markdown",
      "metadata": {
        "id": "itfibG6sG8Yn"
      },
      "source": [
        "Create BERT Embeddings, I think will take quite long this step"
      ]
    },
    {
      "cell_type": "code",
      "metadata": {
        "colab": {
          "base_uri": "https://localhost:8080/",
          "height": 350,
          "referenced_widgets": [
            "bec8765dbcf64aa88cfa6b9c7518f3d8",
            "0cb1396ee59f4223be88a59ac973057c",
            "fe80c22f8cbf41088770d00bebef2a7e",
            "5fb64134da254925887575199a851808",
            "9bc5c780c6944725be575a14731fe745",
            "2fe6a45f86d14df9866bec71617c9f0b",
            "f7b1c96d185f4673a3002ff72f139200",
            "12946fa5a0da463cbf82250f5561387e",
            "8e5437e61bca469bbcc70c89aaee8397",
            "4e046c7753744c5182a5508d55d3a67c",
            "96529061c87a44cabb963fe9cfa665f6",
            "ced66dd3d9a343f9bc22bff7bf6bfff5",
            "0f4ae4da64cb4e3a9303437dcd0f71b5",
            "dd334dd7ce1d431ea09bdace76ffa153",
            "53c817f27e7e4c0cbec2e0877602b24c",
            "7c27194774604200b6dbd0f4b803238a",
            "79797aa48edb492faf846c699bbfaf44",
            "1b6cdf16f7174ab0b7c94c27234c5348",
            "becc0c2018fb4369b122bc999e086162",
            "59ac9477dd6c449d8202727b09af45a4",
            "ce873ce83e73486188404189e47d4eb4",
            "78a7f0db9af54772aebbdf315366a3dd",
            "bff87260b7f54ec48646e3bce1f27397",
            "d14e67904ccb4518b4f416f159ec8655",
            "f9f76ee9eace4849947708038c68bfb4",
            "541c2578b6ca4c3aae46e991a46e32a3",
            "b1dc5f314b414123b5c37337fb4372d9",
            "74d3eed78fd34bf8badd28cf4af4fe93",
            "265cde00d8d94c5ca136e65a83097b3a",
            "5ab65053581c49f8b1cad56e5dae718c",
            "868c7a553dc8443a86b2d00f2996089f",
            "8c5a9736571d4223a16e7e38f7d6281c",
            "bc7956c3d19e4905ab96e1444ddd4348",
            "a29cdcfef8d24905b98b317a596bfcfc",
            "761dda023ea942009710c234963d9444",
            "18ce033971c040cd95bfd63c4a90d86e",
            "750e2f0938c64aaeb3c6b2526ec7faed",
            "274551e029224be8a26b883acd59bf02",
            "d1d0908965084c2495a80bc54933c557",
            "4f1a559075874f339a5bb791f36f0f41"
          ]
        },
        "id": "Z_hurZ6Q-aaj",
        "outputId": "d5449188-ad10-4283-8978-d2c02b08745a"
      },
      "source": [
        "x_train_v = BERTEmbedding(x_train['BERT_Test'])"
      ],
      "execution_count": null,
      "outputs": [
        {
          "output_type": "display_data",
          "data": {
            "application/vnd.jupyter.widget-view+json": {
              "model_id": "bec8765dbcf64aa88cfa6b9c7518f3d8",
              "version_minor": 0,
              "version_major": 2
            },
            "text/plain": [
              "HBox(children=(FloatProgress(value=0.0, description='Downloading', max=570.0, style=ProgressStyle(description_…"
            ]
          },
          "metadata": {
            "tags": []
          }
        },
        {
          "output_type": "stream",
          "text": [
            "\n"
          ],
          "name": "stdout"
        },
        {
          "output_type": "display_data",
          "data": {
            "application/vnd.jupyter.widget-view+json": {
              "model_id": "8e5437e61bca469bbcc70c89aaee8397",
              "version_minor": 0,
              "version_major": 2
            },
            "text/plain": [
              "HBox(children=(FloatProgress(value=0.0, description='Downloading', max=440473133.0, style=ProgressStyle(descri…"
            ]
          },
          "metadata": {
            "tags": []
          }
        },
        {
          "output_type": "stream",
          "text": [
            "\n"
          ],
          "name": "stdout"
        },
        {
          "output_type": "stream",
          "text": [
            "Some weights of the model checkpoint at bert-base-uncased were not used when initializing BertModel: ['cls.seq_relationship.bias', 'cls.predictions.transform.LayerNorm.weight', 'cls.predictions.bias', 'cls.predictions.transform.dense.bias', 'cls.seq_relationship.weight', 'cls.predictions.transform.LayerNorm.bias', 'cls.predictions.transform.dense.weight', 'cls.predictions.decoder.weight']\n",
            "- This IS expected if you are initializing BertModel from the checkpoint of a model trained on another task or with another architecture (e.g. initializing a BertForSequenceClassification model from a BertForPreTraining model).\n",
            "- This IS NOT expected if you are initializing BertModel from the checkpoint of a model that you expect to be exactly identical (initializing a BertForSequenceClassification model from a BertForSequenceClassification model).\n"
          ],
          "name": "stderr"
        },
        {
          "output_type": "display_data",
          "data": {
            "application/vnd.jupyter.widget-view+json": {
              "model_id": "79797aa48edb492faf846c699bbfaf44",
              "version_minor": 0,
              "version_major": 2
            },
            "text/plain": [
              "HBox(children=(FloatProgress(value=0.0, description='Downloading', max=231508.0, style=ProgressStyle(descripti…"
            ]
          },
          "metadata": {
            "tags": []
          }
        },
        {
          "output_type": "stream",
          "text": [
            "\n"
          ],
          "name": "stdout"
        },
        {
          "output_type": "display_data",
          "data": {
            "application/vnd.jupyter.widget-view+json": {
              "model_id": "f9f76ee9eace4849947708038c68bfb4",
              "version_minor": 0,
              "version_major": 2
            },
            "text/plain": [
              "HBox(children=(FloatProgress(value=0.0, description='Downloading', max=28.0, style=ProgressStyle(description_w…"
            ]
          },
          "metadata": {
            "tags": []
          }
        },
        {
          "output_type": "stream",
          "text": [
            "\n"
          ],
          "name": "stdout"
        },
        {
          "output_type": "display_data",
          "data": {
            "application/vnd.jupyter.widget-view+json": {
              "model_id": "bc7956c3d19e4905ab96e1444ddd4348",
              "version_minor": 0,
              "version_major": 2
            },
            "text/plain": [
              "HBox(children=(FloatProgress(value=0.0, description='Downloading', max=466062.0, style=ProgressStyle(descripti…"
            ]
          },
          "metadata": {
            "tags": []
          }
        },
        {
          "output_type": "stream",
          "text": [
            "\n",
            "(70, 120, 768)\n"
          ],
          "name": "stdout"
        }
      ]
    },
    {
      "cell_type": "code",
      "metadata": {
        "colab": {
          "base_uri": "https://localhost:8080/"
        },
        "id": "eGa2L7NWHGQC",
        "outputId": "531aada3-de51-4a75-c5ce-f3160710318c"
      },
      "source": [
        "print(len(x_train_v), 'train sequences')\n",
        "print(y_train.shape[0], 'test sequences')"
      ],
      "execution_count": null,
      "outputs": [
        {
          "output_type": "stream",
          "text": [
            "70 train sequences\n",
            "70 test sequences\n"
          ],
          "name": "stdout"
        }
      ]
    },
    {
      "cell_type": "markdown",
      "metadata": {
        "id": "o81ofQFFNIYj"
      },
      "source": [
        "Creation of Model"
      ]
    },
    {
      "cell_type": "code",
      "metadata": {
        "colab": {
          "base_uri": "https://localhost:8080/"
        },
        "id": "ap7EKPhHHXps",
        "outputId": "7ad25c0b-cee1-481d-da55-f3c0e2a69400"
      },
      "source": [
        "#Create model\n",
        "input1 = tf.keras.Input((120, 768, ))\n",
        "text_dense = tf.keras.layers.Dense(3 , activation='relu')(input1)\n",
        "#text_dense_2 = tf.keras.layers.Dense(2 , activation='relu')(text_dense)\n",
        "#LSTM Test\n",
        "text_dense_2 = tf.keras.layers.LSTM(4)(text_dense)\n",
        "outputs = tf.keras.layers.Dense(1)(text_dense_2)\n",
        "model = tf.keras.Model(inputs=input1, outputs=outputs)\n",
        "model.summary()"
      ],
      "execution_count": null,
      "outputs": [
        {
          "output_type": "stream",
          "text": [
            "Model: \"model_4\"\n",
            "_________________________________________________________________\n",
            "Layer (type)                 Output Shape              Param #   \n",
            "=================================================================\n",
            "input_5 (InputLayer)         [(None, 120, 768)]        0         \n",
            "_________________________________________________________________\n",
            "dense_8 (Dense)              (None, 120, 3)            2307      \n",
            "_________________________________________________________________\n",
            "lstm_4 (LSTM)                (None, 4)                 128       \n",
            "_________________________________________________________________\n",
            "dense_9 (Dense)              (None, 1)                 5         \n",
            "=================================================================\n",
            "Total params: 2,440\n",
            "Trainable params: 2,440\n",
            "Non-trainable params: 0\n",
            "_________________________________________________________________\n"
          ],
          "name": "stdout"
        }
      ]
    },
    {
      "cell_type": "code",
      "metadata": {
        "id": "P1VxhulQJYHO"
      },
      "source": [
        "model.compile(loss='mean_squared_logarithmic_error',optimizer='adam',metrics=['mean_squared_logarithmic_error'])"
      ],
      "execution_count": null,
      "outputs": []
    },
    {
      "cell_type": "code",
      "metadata": {
        "colab": {
          "base_uri": "https://localhost:8080/",
          "height": 482
        },
        "id": "LnwrYM10JiU_",
        "outputId": "e6233565-9277-40ea-bc19-97eda4aea994"
      },
      "source": [
        "print('Train...')\n",
        "hist = model.fit(x_train_v, y_train, \n",
        "          epochs=5, \n",
        "          validation_split = 0.15)\n",
        "\n",
        "# summarize history for loss\n",
        "plt.plot(hist.history['loss'])\n",
        "plt.plot(hist.history['val_loss'])\n",
        "plt.title('model loss')\n",
        "plt.ylabel('loss')\n",
        "plt.xlabel('epoch')\n",
        "plt.legend(['train', 'test'], loc='upper left')\n",
        "plt.show()"
      ],
      "execution_count": null,
      "outputs": [
        {
          "output_type": "stream",
          "text": [
            "Train...\n",
            "Epoch 1/5\n",
            "2/2 [==============================] - 3s 614ms/step - loss: 2.6784 - mean_squared_logarithmic_error: 2.6784 - val_loss: 3.1506 - val_mean_squared_logarithmic_error: 3.1506\n",
            "Epoch 2/5\n",
            "2/2 [==============================] - 0s 59ms/step - loss: 2.6056 - mean_squared_logarithmic_error: 2.6056 - val_loss: 3.0947 - val_mean_squared_logarithmic_error: 3.0947\n",
            "Epoch 3/5\n",
            "2/2 [==============================] - 0s 53ms/step - loss: 2.5485 - mean_squared_logarithmic_error: 2.5485 - val_loss: 3.0615 - val_mean_squared_logarithmic_error: 3.0615\n",
            "Epoch 4/5\n",
            "2/2 [==============================] - 0s 54ms/step - loss: 2.5094 - mean_squared_logarithmic_error: 2.5094 - val_loss: 3.0415 - val_mean_squared_logarithmic_error: 3.0415\n",
            "Epoch 5/5\n",
            "2/2 [==============================] - 0s 52ms/step - loss: 2.4863 - mean_squared_logarithmic_error: 2.4863 - val_loss: 3.0242 - val_mean_squared_logarithmic_error: 3.0242\n"
          ],
          "name": "stdout"
        },
        {
          "output_type": "display_data",
          "data": {
            "image/png": "[encoded data removed]",
            "text/plain": [
              "<Figure size 432x288 with 1 Axes>"
            ]
          },
          "metadata": {
            "tags": [],
            "needs_background": "light"
          }
        }
      ]
    },
    {
      "cell_type": "code",
      "metadata": {
        "colab": {
          "base_uri": "https://localhost:8080/"
        },
        "id": "IQbxMbby_MrF",
        "outputId": "03403834-91ae-4d7b-ea36-5d57a239c9b6"
      },
      "source": [
        "x_test_v = BERTEmbedding(x_test['BERT_Test'])"
      ],
      "execution_count": null,
      "outputs": [
        {
          "output_type": "stream",
          "text": [
            "Some weights of the model checkpoint at bert-base-uncased were not used when initializing BertModel: ['cls.seq_relationship.bias', 'cls.predictions.transform.LayerNorm.weight', 'cls.predictions.bias', 'cls.predictions.transform.dense.bias', 'cls.seq_relationship.weight', 'cls.predictions.transform.LayerNorm.bias', 'cls.predictions.transform.dense.weight', 'cls.predictions.decoder.weight']\n",
            "- This IS expected if you are initializing BertModel from the checkpoint of a model trained on another task or with another architecture (e.g. initializing a BertForSequenceClassification model from a BertForPreTraining model).\n",
            "- This IS NOT expected if you are initializing BertModel from the checkpoint of a model that you expect to be exactly identical (initializing a BertForSequenceClassification model from a BertForSequenceClassification model).\n"
          ],
          "name": "stderr"
        },
        {
          "output_type": "stream",
          "text": [
            "(30, 120, 768)\n"
          ],
          "name": "stdout"
        }
      ]
    },
    {
      "cell_type": "code",
      "metadata": {
        "colab": {
          "base_uri": "https://localhost:8080/"
        },
        "id": "YTZjOeYr_qdM",
        "outputId": "9e0ecb45-72a9-45bc-9dd2-bf091c1b74b5"
      },
      "source": [
        "model.evaluate(x_test_v,y_test)"
      ],
      "execution_count": null,
      "outputs": [
        {
          "output_type": "stream",
          "text": [
            "1/1 [==============================] - 0s 30ms/step - loss: 2.7808 - mean_squared_logarithmic_error: 2.7808\n"
          ],
          "name": "stdout"
        },
        {
          "output_type": "execute_result",
          "data": {
            "text/plain": [
              "[2.7808003425598145, 2.7808003425598145]"
            ]
          },
          "metadata": {
            "tags": []
          },
          "execution_count": 40
        }
      ]
    },
    {
      "cell_type": "code",
      "metadata": {
        "colab": {
          "base_uri": "https://localhost:8080/"
        },
        "id": "0725yeINNX6B",
        "outputId": "f70e27e5-f922-4f20-f97a-e3d8c4473f38"
      },
      "source": [
        "d = {'col1': ['Hello covid emergency']}\n",
        "df2 = pd.DataFrame(data=d)\n",
        "df2.head()\n",
        "\n",
        "test_input = BERTEmbedding(df2['col1'])\n",
        "model.predict(test_input)"
      ],
      "execution_count": null,
      "outputs": [
        {
          "output_type": "stream",
          "text": [
            "Some weights of the model checkpoint at bert-base-uncased were not used when initializing BertModel: ['cls.seq_relationship.weight', 'cls.predictions.transform.LayerNorm.weight', 'cls.predictions.transform.dense.bias', 'cls.predictions.bias', 'cls.predictions.transform.LayerNorm.bias', 'cls.seq_relationship.bias', 'cls.predictions.decoder.weight', 'cls.predictions.transform.dense.weight']\n",
            "- This IS expected if you are initializing BertModel from the checkpoint of a model trained on another task or with another architecture (e.g. initializing a BertForSequenceClassification model from a BertForPreTraining model).\n",
            "- This IS NOT expected if you are initializing BertModel from the checkpoint of a model that you expect to be exactly identical (initializing a BertForSequenceClassification model from a BertForSequenceClassification model).\n"
          ],
          "name": "stderr"
        },
        {
          "output_type": "stream",
          "text": [
            "(1, 120, 768)\n"
          ],
          "name": "stdout"
        },
        {
          "output_type": "execute_result",
          "data": {
            "text/plain": [
              "array([[0.8596252]], dtype=float32)"
            ]
          },
          "metadata": {
            "tags": []
          },
          "execution_count": 118
        }
      ]
    }
  ]
}