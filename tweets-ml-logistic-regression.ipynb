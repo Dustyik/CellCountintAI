{
 "cells": [
  {
   "cell_type": "code",
   "execution_count": 1,
   "metadata": {
    "_cell_guid": "b1076dfc-b9ad-4769-8c92-a6c4dae69d19",
    "_uuid": "8f2839f25d086af736a60e9eeb907d3b93b6e0e5",
    "execution": {
     "iopub.execute_input": "2021-07-22T09:42:40.962688Z",
     "iopub.status.busy": "2021-07-22T09:42:40.962233Z",
     "iopub.status.idle": "2021-07-22T09:42:42.121260Z",
     "shell.execute_reply": "2021-07-22T09:42:42.120204Z",
     "shell.execute_reply.started": "2021-07-22T09:42:40.962587Z"
    }
   },
   "outputs": [],
   "source": [
    "import numpy as np # linear algebra\n",
    "import pandas as pd # data processing, CSV file I/O (e.g. pd.read_csv)\n",
    "import os\n",
    "from matplotlib import pyplot as plt\n",
    "from matplotlib.pyplot import figure\n",
    "from sklearn.linear_model import LogisticRegression\n",
    "from sklearn.model_selection import train_test_split"
   ]
  },
  {
   "cell_type": "code",
   "execution_count": 2,
   "metadata": {
    "execution": {
     "iopub.execute_input": "2021-07-22T09:42:42.140135Z",
     "iopub.status.busy": "2021-07-22T09:42:42.139849Z",
     "iopub.status.idle": "2021-07-22T09:43:19.707695Z",
     "shell.execute_reply": "2021-07-22T09:43:19.706660Z",
     "shell.execute_reply.started": "2021-07-22T09:42:42.140108Z"
    }
   },
   "outputs": [],
   "source": [
    "df = pd.read_csv(\"/Users/james/OneDrive - Singapore University of Technology and Design/SUTD/Year 4/Term 8/50.021 - Artificial Intelligence/Project/Retweet Prediction/Datasets/TweetsDataPostProccessed.csv\")\n",
    "df = df.drop(df.columns[0], axis=1)\n",
    "df = df.sample(frac=0.40)"
   ]
  },
  {
   "cell_type": "code",
   "execution_count": 3,
   "metadata": {
    "execution": {
     "iopub.execute_input": "2021-07-22T09:43:19.709426Z",
     "iopub.status.busy": "2021-07-22T09:43:19.709106Z",
     "iopub.status.idle": "2021-07-22T09:43:19.743188Z",
     "shell.execute_reply": "2021-07-22T09:43:19.742187Z",
     "shell.execute_reply.started": "2021-07-22T09:43:19.709396Z"
    }
   },
   "outputs": [
    {
     "data": {
      "text/html": [
       "<div>\n",
       "<style scoped>\n",
       "    .dataframe tbody tr th:only-of-type {\n",
       "        vertical-align: middle;\n",
       "    }\n",
       "\n",
       "    .dataframe tbody tr th {\n",
       "        vertical-align: top;\n",
       "    }\n",
       "\n",
       "    .dataframe thead th {\n",
       "        text-align: right;\n",
       "    }\n",
       "</style>\n",
       "<table border=\"1\" class=\"dataframe\">\n",
       "  <thead>\n",
       "    <tr style=\"text-align: right;\">\n",
       "      <th></th>\n",
       "      <th>Tweet Id</th>\n",
       "      <th>Username</th>\n",
       "      <th>Timestamp</th>\n",
       "      <th>Followers</th>\n",
       "      <th>Friends</th>\n",
       "      <th>Retweets</th>\n",
       "      <th>Favourites</th>\n",
       "      <th>Entities</th>\n",
       "      <th>Sentiment</th>\n",
       "      <th>Mentions</th>\n",
       "      <th>...</th>\n",
       "      <th>day_of_week</th>\n",
       "      <th>friends_followers_ratio</th>\n",
       "      <th>number_of_tweets_per_user</th>\n",
       "      <th>URL_domain_popularity</th>\n",
       "      <th>hashtag_popularity</th>\n",
       "      <th>entities_popularity</th>\n",
       "      <th>mentions_popularity</th>\n",
       "      <th>No. of top 20 Entities</th>\n",
       "      <th>No. of top 20 hashtags</th>\n",
       "      <th>No. of top 20 Mentions</th>\n",
       "    </tr>\n",
       "  </thead>\n",
       "  <tbody>\n",
       "    <tr>\n",
       "      <th>1458261</th>\n",
       "      <td>1210358664554565634</td>\n",
       "      <td>c6776f14e563a13cf9a160051a044fe3</td>\n",
       "      <td>2019/12/27</td>\n",
       "      <td>2</td>\n",
       "      <td>66</td>\n",
       "      <td>0</td>\n",
       "      <td>0</td>\n",
       "      <td>null;</td>\n",
       "      <td>1 -1</td>\n",
       "      <td>null;</td>\n",
       "      <td>...</td>\n",
       "      <td>5</td>\n",
       "      <td>33.000000</td>\n",
       "      <td>3</td>\n",
       "      <td>0</td>\n",
       "      <td>0</td>\n",
       "      <td>0</td>\n",
       "      <td>0</td>\n",
       "      <td>0</td>\n",
       "      <td>0</td>\n",
       "      <td>0</td>\n",
       "    </tr>\n",
       "    <tr>\n",
       "      <th>561120</th>\n",
       "      <td>1184513040324149253</td>\n",
       "      <td>89c10be7d698a8af74d12c17c1eab2e6</td>\n",
       "      <td>2019/10/16</td>\n",
       "      <td>771</td>\n",
       "      <td>781</td>\n",
       "      <td>0</td>\n",
       "      <td>0</td>\n",
       "      <td>interviews with monster girls:interviews_with_...</td>\n",
       "      <td>4 -1</td>\n",
       "      <td>null;</td>\n",
       "      <td>...</td>\n",
       "      <td>3</td>\n",
       "      <td>1.012970</td>\n",
       "      <td>4</td>\n",
       "      <td>0</td>\n",
       "      <td>0</td>\n",
       "      <td>0</td>\n",
       "      <td>0</td>\n",
       "      <td>0</td>\n",
       "      <td>0</td>\n",
       "      <td>0</td>\n",
       "    </tr>\n",
       "    <tr>\n",
       "      <th>2703302</th>\n",
       "      <td>1231618668791988227</td>\n",
       "      <td>38b7443b5a630ffa27859f7a4a5186aa</td>\n",
       "      <td>2020/02/23</td>\n",
       "      <td>357</td>\n",
       "      <td>438</td>\n",
       "      <td>0</td>\n",
       "      <td>0</td>\n",
       "      <td>null;</td>\n",
       "      <td>1 -3</td>\n",
       "      <td>mbottleair cptfunkadunk</td>\n",
       "      <td>...</td>\n",
       "      <td>7</td>\n",
       "      <td>1.226891</td>\n",
       "      <td>3</td>\n",
       "      <td>0</td>\n",
       "      <td>0</td>\n",
       "      <td>0</td>\n",
       "      <td>0</td>\n",
       "      <td>0</td>\n",
       "      <td>0</td>\n",
       "      <td>0</td>\n",
       "    </tr>\n",
       "    <tr>\n",
       "      <th>2277789</th>\n",
       "      <td>1218672332912439297</td>\n",
       "      <td>64e31461504ffd33866f9780c1796867</td>\n",
       "      <td>2020/01/18</td>\n",
       "      <td>5253</td>\n",
       "      <td>3243</td>\n",
       "      <td>0</td>\n",
       "      <td>0</td>\n",
       "      <td>null;</td>\n",
       "      <td>2 -1</td>\n",
       "      <td>nadya_kasyanova</td>\n",
       "      <td>...</td>\n",
       "      <td>6</td>\n",
       "      <td>0.617362</td>\n",
       "      <td>4</td>\n",
       "      <td>0</td>\n",
       "      <td>0</td>\n",
       "      <td>0</td>\n",
       "      <td>0</td>\n",
       "      <td>0</td>\n",
       "      <td>0</td>\n",
       "      <td>0</td>\n",
       "    </tr>\n",
       "    <tr>\n",
       "      <th>2035041</th>\n",
       "      <td>1216099920144478208</td>\n",
       "      <td>45ea2b7d3ef6e55996cf6ad928adfb5c</td>\n",
       "      <td>2020/01/11</td>\n",
       "      <td>793</td>\n",
       "      <td>3258</td>\n",
       "      <td>0</td>\n",
       "      <td>0</td>\n",
       "      <td>happy new year:happy_new_year_%282014_film%29:...</td>\n",
       "      <td>2 -1</td>\n",
       "      <td>null;</td>\n",
       "      <td>...</td>\n",
       "      <td>6</td>\n",
       "      <td>4.108449</td>\n",
       "      <td>2</td>\n",
       "      <td>1</td>\n",
       "      <td>0</td>\n",
       "      <td>0</td>\n",
       "      <td>0</td>\n",
       "      <td>0</td>\n",
       "      <td>0</td>\n",
       "      <td>0</td>\n",
       "    </tr>\n",
       "  </tbody>\n",
       "</table>\n",
       "<p>5 rows × 31 columns</p>\n",
       "</div>"
      ],
      "text/plain": [
       "                    Tweet Id                          Username   Timestamp  \\\n",
       "1458261  1210358664554565634  c6776f14e563a13cf9a160051a044fe3  2019/12/27   \n",
       "561120   1184513040324149253  89c10be7d698a8af74d12c17c1eab2e6  2019/10/16   \n",
       "2703302  1231618668791988227  38b7443b5a630ffa27859f7a4a5186aa  2020/02/23   \n",
       "2277789  1218672332912439297  64e31461504ffd33866f9780c1796867  2020/01/18   \n",
       "2035041  1216099920144478208  45ea2b7d3ef6e55996cf6ad928adfb5c  2020/01/11   \n",
       "\n",
       "         Followers  Friends  Retweets  Favourites  \\\n",
       "1458261          2       66         0           0   \n",
       "561120         771      781         0           0   \n",
       "2703302        357      438         0           0   \n",
       "2277789       5253     3243         0           0   \n",
       "2035041        793     3258         0           0   \n",
       "\n",
       "                                                  Entities Sentiment  \\\n",
       "1458261                                              null;      1 -1   \n",
       "561120   interviews with monster girls:interviews_with_...      4 -1   \n",
       "2703302                                              null;      1 -3   \n",
       "2277789                                              null;      2 -1   \n",
       "2035041  happy new year:happy_new_year_%282014_film%29:...      2 -1   \n",
       "\n",
       "                        Mentions  ... day_of_week friends_followers_ratio  \\\n",
       "1458261                    null;  ...           5               33.000000   \n",
       "561120                     null;  ...           3                1.012970   \n",
       "2703302  mbottleair cptfunkadunk  ...           7                1.226891   \n",
       "2277789          nadya_kasyanova  ...           6                0.617362   \n",
       "2035041                    null;  ...           6                4.108449   \n",
       "\n",
       "         number_of_tweets_per_user  URL_domain_popularity  hashtag_popularity  \\\n",
       "1458261                          3                      0                   0   \n",
       "561120                           4                      0                   0   \n",
       "2703302                          3                      0                   0   \n",
       "2277789                          4                      0                   0   \n",
       "2035041                          2                      1                   0   \n",
       "\n",
       "         entities_popularity  mentions_popularity  No. of top 20 Entities  \\\n",
       "1458261                    0                    0                       0   \n",
       "561120                     0                    0                       0   \n",
       "2703302                    0                    0                       0   \n",
       "2277789                    0                    0                       0   \n",
       "2035041                    0                    0                       0   \n",
       "\n",
       "         No. of top 20 hashtags  No. of top 20 Mentions  \n",
       "1458261                       0                       0  \n",
       "561120                        0                       0  \n",
       "2703302                       0                       0  \n",
       "2277789                       0                       0  \n",
       "2035041                       0                       0  \n",
       "\n",
       "[5 rows x 31 columns]"
      ]
     },
     "execution_count": 3,
     "metadata": {},
     "output_type": "execute_result"
    }
   ],
   "source": [
    "df.head()"
   ]
  },
  {
   "cell_type": "code",
   "execution_count": 4,
   "metadata": {
    "execution": {
     "iopub.execute_input": "2021-07-22T09:43:19.745383Z",
     "iopub.status.busy": "2021-07-22T09:43:19.744708Z",
     "iopub.status.idle": "2021-07-22T09:43:19.753133Z",
     "shell.execute_reply": "2021-07-22T09:43:19.752338Z",
     "shell.execute_reply.started": "2021-07-22T09:43:19.745336Z"
    }
   },
   "outputs": [
    {
     "data": {
      "text/plain": [
       "Index(['Tweet Id', 'Username', 'Timestamp', 'Followers', 'Friends', 'Retweets',\n",
       "       'Favourites', 'Entities', 'Sentiment', 'Mentions', 'Hashtags', 'URLS',\n",
       "       'Positive_Sentiment', 'Negative_Sentiment', 'Overall Sentiment',\n",
       "       'Entity_count', 'Hashtags_count', 'Mentions_count', 'URLS_count',\n",
       "       'time', 'weekend', 'day_of_week', 'friends_followers_ratio',\n",
       "       'number_of_tweets_per_user', 'URL_domain_popularity',\n",
       "       'hashtag_popularity', 'entities_popularity', 'mentions_popularity',\n",
       "       'No. of top 20 Entities', 'No. of top 20 hashtags',\n",
       "       'No. of top 20 Mentions'],\n",
       "      dtype='object')"
      ]
     },
     "execution_count": 4,
     "metadata": {},
     "output_type": "execute_result"
    }
   ],
   "source": [
    "df.columns"
   ]
  },
  {
   "cell_type": "code",
   "execution_count": 5,
   "metadata": {},
   "outputs": [],
   "source": [
    "#Removed columns that do not hold any meaningful value\n",
    "df = df.drop(columns=[\"Tweet Id\",\"Username\",\"Timestamp\",\"Entities\",\"URLS\",\"Sentiment\",\"Hashtags\",\"Mentions\"])"
   ]
  },
  {
   "cell_type": "markdown",
   "metadata": {},
   "source": [
    "# Check for multi-collinearity"
   ]
  },
  {
   "cell_type": "code",
   "execution_count": 6,
   "metadata": {
    "execution": {
     "iopub.execute_input": "2021-07-22T09:43:19.754817Z",
     "iopub.status.busy": "2021-07-22T09:43:19.754368Z",
     "iopub.status.idle": "2021-07-22T09:43:26.659550Z",
     "shell.execute_reply": "2021-07-22T09:43:26.658754Z",
     "shell.execute_reply.started": "2021-07-22T09:43:19.754788Z"
    }
   },
   "outputs": [
    {
     "data": {
      "text/html": [
       "<div>\n",
       "<style scoped>\n",
       "    .dataframe tbody tr th:only-of-type {\n",
       "        vertical-align: middle;\n",
       "    }\n",
       "\n",
       "    .dataframe tbody tr th {\n",
       "        vertical-align: top;\n",
       "    }\n",
       "\n",
       "    .dataframe thead th {\n",
       "        text-align: right;\n",
       "    }\n",
       "</style>\n",
       "<table border=\"1\" class=\"dataframe\">\n",
       "  <thead>\n",
       "    <tr style=\"text-align: right;\">\n",
       "      <th></th>\n",
       "      <th>Retweets</th>\n",
       "    </tr>\n",
       "  </thead>\n",
       "  <tbody>\n",
       "    <tr>\n",
       "      <th>Followers</th>\n",
       "      <td>0.038546</td>\n",
       "    </tr>\n",
       "    <tr>\n",
       "      <th>Friends</th>\n",
       "      <td>0.015107</td>\n",
       "    </tr>\n",
       "    <tr>\n",
       "      <th>Retweets</th>\n",
       "      <td>1.000000</td>\n",
       "    </tr>\n",
       "    <tr>\n",
       "      <th>Favourites</th>\n",
       "      <td>0.874829</td>\n",
       "    </tr>\n",
       "    <tr>\n",
       "      <th>Positive_Sentiment</th>\n",
       "      <td>-0.001629</td>\n",
       "    </tr>\n",
       "    <tr>\n",
       "      <th>Negative_Sentiment</th>\n",
       "      <td>-0.006537</td>\n",
       "    </tr>\n",
       "    <tr>\n",
       "      <th>Overall Sentiment</th>\n",
       "      <td>-0.006313</td>\n",
       "    </tr>\n",
       "    <tr>\n",
       "      <th>Entity_count</th>\n",
       "      <td>0.010526</td>\n",
       "    </tr>\n",
       "    <tr>\n",
       "      <th>Hashtags_count</th>\n",
       "      <td>-0.000127</td>\n",
       "    </tr>\n",
       "    <tr>\n",
       "      <th>Mentions_count</th>\n",
       "      <td>-0.034832</td>\n",
       "    </tr>\n",
       "    <tr>\n",
       "      <th>URLS_count</th>\n",
       "      <td>-0.001049</td>\n",
       "    </tr>\n",
       "    <tr>\n",
       "      <th>time</th>\n",
       "      <td>-0.001685</td>\n",
       "    </tr>\n",
       "    <tr>\n",
       "      <th>weekend</th>\n",
       "      <td>-0.000600</td>\n",
       "    </tr>\n",
       "    <tr>\n",
       "      <th>day_of_week</th>\n",
       "      <td>0.001096</td>\n",
       "    </tr>\n",
       "    <tr>\n",
       "      <th>friends_followers_ratio</th>\n",
       "      <td>-0.009600</td>\n",
       "    </tr>\n",
       "    <tr>\n",
       "      <th>number_of_tweets_per_user</th>\n",
       "      <td>0.018813</td>\n",
       "    </tr>\n",
       "    <tr>\n",
       "      <th>URL_domain_popularity</th>\n",
       "      <td>-0.002258</td>\n",
       "    </tr>\n",
       "    <tr>\n",
       "      <th>hashtag_popularity</th>\n",
       "      <td>-0.000004</td>\n",
       "    </tr>\n",
       "    <tr>\n",
       "      <th>entities_popularity</th>\n",
       "      <td>0.007430</td>\n",
       "    </tr>\n",
       "    <tr>\n",
       "      <th>mentions_popularity</th>\n",
       "      <td>-0.002874</td>\n",
       "    </tr>\n",
       "    <tr>\n",
       "      <th>No. of top 20 Entities</th>\n",
       "      <td>0.010448</td>\n",
       "    </tr>\n",
       "    <tr>\n",
       "      <th>No. of top 20 hashtags</th>\n",
       "      <td>0.000005</td>\n",
       "    </tr>\n",
       "    <tr>\n",
       "      <th>No. of top 20 Mentions</th>\n",
       "      <td>-0.002389</td>\n",
       "    </tr>\n",
       "  </tbody>\n",
       "</table>\n",
       "</div>"
      ],
      "text/plain": [
       "                           Retweets\n",
       "Followers                  0.038546\n",
       "Friends                    0.015107\n",
       "Retweets                   1.000000\n",
       "Favourites                 0.874829\n",
       "Positive_Sentiment        -0.001629\n",
       "Negative_Sentiment        -0.006537\n",
       "Overall Sentiment         -0.006313\n",
       "Entity_count               0.010526\n",
       "Hashtags_count            -0.000127\n",
       "Mentions_count            -0.034832\n",
       "URLS_count                -0.001049\n",
       "time                      -0.001685\n",
       "weekend                   -0.000600\n",
       "day_of_week                0.001096\n",
       "friends_followers_ratio   -0.009600\n",
       "number_of_tweets_per_user  0.018813\n",
       "URL_domain_popularity     -0.002258\n",
       "hashtag_popularity        -0.000004\n",
       "entities_popularity        0.007430\n",
       "mentions_popularity       -0.002874\n",
       "No. of top 20 Entities     0.010448\n",
       "No. of top 20 hashtags     0.000005\n",
       "No. of top 20 Mentions    -0.002389"
      ]
     },
     "execution_count": 6,
     "metadata": {},
     "output_type": "execute_result"
    }
   ],
   "source": [
    "df.corr()[[\"Retweets\"]]"
   ]
  },
  {
   "cell_type": "code",
   "execution_count": 7,
   "metadata": {
    "execution": {
     "iopub.execute_input": "2021-07-22T09:43:26.661073Z",
     "iopub.status.busy": "2021-07-22T09:43:26.660599Z",
     "iopub.status.idle": "2021-07-22T09:43:26.668367Z",
     "shell.execute_reply": "2021-07-22T09:43:26.667323Z",
     "shell.execute_reply.started": "2021-07-22T09:43:26.661041Z"
    }
   },
   "outputs": [
    {
     "data": {
      "text/plain": [
       "Index(['Followers', 'Friends', 'Retweets', 'Favourites', 'Positive_Sentiment',\n",
       "       'Negative_Sentiment', 'Overall Sentiment', 'Entity_count',\n",
       "       'Hashtags_count', 'Mentions_count', 'URLS_count', 'time', 'weekend',\n",
       "       'day_of_week', 'friends_followers_ratio', 'number_of_tweets_per_user',\n",
       "       'URL_domain_popularity', 'hashtag_popularity', 'entities_popularity',\n",
       "       'mentions_popularity', 'No. of top 20 Entities',\n",
       "       'No. of top 20 hashtags', 'No. of top 20 Mentions'],\n",
       "      dtype='object')"
      ]
     },
     "execution_count": 7,
     "metadata": {},
     "output_type": "execute_result"
    }
   ],
   "source": [
    "df.columns"
   ]
  },
  {
   "cell_type": "code",
   "execution_count": 8,
   "metadata": {
    "execution": {
     "iopub.execute_input": "2021-07-22T09:43:26.671589Z",
     "iopub.status.busy": "2021-07-22T09:43:26.671151Z",
     "iopub.status.idle": "2021-07-22T09:43:26.932552Z",
     "shell.execute_reply": "2021-07-22T09:43:26.931479Z",
     "shell.execute_reply.started": "2021-07-22T09:43:26.671554Z"
    }
   },
   "outputs": [
    {
     "data": {
      "text/plain": [
       "Retweets\n",
       "0           850475\n",
       "1           127787\n",
       "2            62555\n",
       "3            42405\n",
       "4            32271\n",
       "             ...  \n",
       "3890             1\n",
       "3882             1\n",
       "3881             1\n",
       "3878             1\n",
       "275529           1\n",
       "Length: 4637, dtype: int64"
      ]
     },
     "execution_count": 8,
     "metadata": {},
     "output_type": "execute_result"
    }
   ],
   "source": [
    "df[[\"Retweets\"]].value_counts()"
   ]
  },
  {
   "cell_type": "code",
   "execution_count": 9,
   "metadata": {
    "execution": {
     "iopub.execute_input": "2021-07-22T09:43:26.934777Z",
     "iopub.status.busy": "2021-07-22T09:43:26.934310Z",
     "iopub.status.idle": "2021-07-22T09:43:29.146772Z",
     "shell.execute_reply": "2021-07-22T09:43:29.145847Z",
     "shell.execute_reply.started": "2021-07-22T09:43:26.934732Z"
    }
   },
   "outputs": [],
   "source": [
    "X = df.drop(columns=[\"Retweets\"])\n",
    "y = df[[\"Retweets\"]]\n",
    "X_train, X_test, y_train, y_test = train_test_split(X, y, test_size=0.33, random_state=42)"
   ]
  },
  {
   "cell_type": "code",
   "execution_count": 10,
   "metadata": {
    "execution": {
     "iopub.execute_input": "2021-07-22T09:43:29.148446Z",
     "iopub.status.busy": "2021-07-22T09:43:29.148127Z",
     "iopub.status.idle": "2021-07-22T09:43:29.157003Z",
     "shell.execute_reply": "2021-07-22T09:43:29.155895Z",
     "shell.execute_reply.started": "2021-07-22T09:43:29.148418Z"
    }
   },
   "outputs": [
    {
     "data": {
      "text/plain": [
       "Followers                      int64\n",
       "Friends                        int64\n",
       "Retweets                       int64\n",
       "Favourites                     int64\n",
       "Positive_Sentiment           float64\n",
       "Negative_Sentiment           float64\n",
       "Overall Sentiment            float64\n",
       "Entity_count                   int64\n",
       "Hashtags_count                 int64\n",
       "Mentions_count                 int64\n",
       "URLS_count                     int64\n",
       "time                           int64\n",
       "weekend                        int64\n",
       "day_of_week                    int64\n",
       "friends_followers_ratio      float64\n",
       "number_of_tweets_per_user      int64\n",
       "URL_domain_popularity          int64\n",
       "hashtag_popularity             int64\n",
       "entities_popularity            int64\n",
       "mentions_popularity            int64\n",
       "No. of top 20 Entities         int64\n",
       "No. of top 20 hashtags         int64\n",
       "No. of top 20 Mentions         int64\n",
       "dtype: object"
      ]
     },
     "execution_count": 10,
     "metadata": {},
     "output_type": "execute_result"
    }
   ],
   "source": [
    "df.dtypes"
   ]
  },
  {
   "cell_type": "code",
   "execution_count": null,
   "metadata": {
    "execution": {
     "iopub.execute_input": "2021-07-22T09:43:29.158699Z",
     "iopub.status.busy": "2021-07-22T09:43:29.158415Z"
    }
   },
   "outputs": [
    {
     "name": "stderr",
     "output_type": "stream",
     "text": [
      "/Library/Frameworks/Python.framework/Versions/3.9/lib/python3.9/site-packages/sklearn/utils/validation.py:63: DataConversionWarning: A column-vector y was passed when a 1d array was expected. Please change the shape of y to (n_samples, ), for example using ravel().\n",
      "  return f(*args, **kwargs)\n"
     ]
    }
   ],
   "source": [
    "clf = LogisticRegression(random_state=0,multi_class=\"multinomial\").fit(X_train,y_train)"
   ]
  },
  {
   "cell_type": "code",
   "execution_count": null,
   "metadata": {},
   "outputs": [],
   "source": [
    "from sklearn import metrics\n",
    "cnf_matrix = metrics.confusion_matrix(y_test, y_pred)\n",
    "cnf_matrix"
   ]
  },
  {
   "cell_type": "code",
   "execution_count": null,
   "metadata": {},
   "outputs": [],
   "source": [
    "# import required modules\n",
    "import numpy as np\n",
    "import matplotlib.pyplot as plt\n",
    "import seaborn as sns\n",
    "%matplotlib inline\n",
    "\n",
    "class_names=[0,1] # name  of classes\n",
    "fig, ax = plt.subplots()\n",
    "tick_marks = np.arange(len(class_names))\n",
    "plt.xticks(tick_marks, class_names)\n",
    "plt.yticks(tick_marks, class_names)\n",
    "# create heatmap\n",
    "sns.heatmap(pd.DataFrame(cnf_matrix), annot=True, cmap=\"YlGnBu\" ,fmt='g')\n",
    "ax.xaxis.set_label_position(\"top\")\n",
    "plt.tight_layout()\n",
    "plt.title('Confusion matrix', y=1.1)\n",
    "plt.ylabel('Actual label')\n",
    "plt.xlabel('Predicted label')"
   ]
  },
  {
   "cell_type": "code",
   "execution_count": null,
   "metadata": {},
   "outputs": [],
   "source": [
    "print(\"Accuracy:\",metrics.accuracy_score(y_test, y_pred))\n",
    "print(\"Precision:\",metrics.precision_score(y_test, y_pred))\n",
    "print(\"Recall:\",metrics.recall_score(y_test, y_pred))"
   ]
  },
  {
   "cell_type": "code",
   "execution_count": null,
   "metadata": {},
   "outputs": [],
   "source": [
    "y_pred_proba = logreg.predict_proba(X_test)[::,1]\n",
    "fpr, tpr, _ = metrics.roc_curve(y_test,  y_pred_proba)\n",
    "auc = metrics.roc_auc_score(y_test, y_pred_proba)\n",
    "plt.plot(fpr,tpr,label=\"data 1, auc=\"+str(auc))\n",
    "plt.legend(loc=4)\n",
    "plt.show()"
   ]
  }
 ],
 "metadata": {
  "kernelspec": {
   "display_name": "Python 3",
   "language": "python",
   "name": "python3"
  },
  "language_info": {
   "codemirror_mode": {
    "name": "ipython",
    "version": 3
   },
   "file_extension": ".py",
   "mimetype": "text/x-python",
   "name": "python",
   "nbconvert_exporter": "python",
   "pygments_lexer": "ipython3",
   "version": "3.9.4"
  }
 },
 "nbformat": 4,
 "nbformat_minor": 4
}
